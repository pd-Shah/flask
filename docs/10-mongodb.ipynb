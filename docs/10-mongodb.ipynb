{
 "cells": [
  {
   "cell_type": "markdown",
   "metadata": {},
   "source": [
    "You can use any of these three libraries\n",
    "\n",
    "Flask-PyMongo - https://flask-pymongo.readthedocs.io/en/latest/\n",
    "Flask-MongoAlchemy - https://pythonhosted.org/Flask-MongoAlchemy/\n",
    "Flask-MongoEngine - http://docs.mongoengine.org/projects/flask-mongoengine/en/latest/\n",
    "\n",
    "Maybe you don't have to use special libraries for Flask to connect to MongoDB.\n",
    "\n",
    "Just treat Flask application as a normal Python program, and connect to MongoDB via normal Python libraries like PyMongo.\n",
    "\n",
    "https://api.mongodb.com/python/current/tutorial.html\n",
    "\n",
    "You first need to import MongoClient and create a connection:\n",
    "\n",
    "from pymongo import MongoClient\n",
    "client = MongoClient()\n",
    "Then get your db instance and collection (table):\n",
    "\n",
    "db = client.my_database\n",
    "collection = db.my_collection"
   ]
  }
 ],
 "metadata": {
  "kernelspec": {
   "display_name": "Python 3",
   "language": "python",
   "name": "python3"
  },
  "language_info": {
   "codemirror_mode": {
    "name": "ipython",
    "version": 3
   },
   "file_extension": ".py",
   "mimetype": "text/x-python",
   "name": "python",
   "nbconvert_exporter": "python",
   "pygments_lexer": "ipython3",
   "version": "3.6.5"
  }
 },
 "nbformat": 4,
 "nbformat_minor": 2
}
