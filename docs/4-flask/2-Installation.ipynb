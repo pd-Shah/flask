{
 "cells": [
  {
   "cell_type": "markdown",
   "metadata": {},
   "source": [
    "# Pedram ShahSafi\n",
    "\n",
    "# pd.shahsafi@gmail.com\n",
    "\n",
    "<img src=\"pics/1.jpg\" />"
   ]
  },
  {
   "cell_type": "markdown",
   "metadata": {},
   "source": [
    "## Installation\n",
    "\n",
    "<img src=\"pics/funny-wizard-install-program.jpg\">\n"
   ]
  },
  {
   "cell_type": "markdown",
   "metadata": {},
   "source": [
    "Flask depends on some external libraries, like Werkzeug and Jinja2. \n",
    "1. Werkzeug is a toolkit for WSGI, the standard Python interface between web applications and a variety of servers for both development and deployment.\n",
    "2. Jinja2 renders templates.\n",
    "\n",
    "## virtualenv"
   ]
  },
  {
   "cell_type": "code",
   "execution_count": null,
   "metadata": {},
   "outputs": [],
   "source": [
    "pip install --upgrade pip setuptools\n",
    "sudo pip install virtualenv\n",
    "sudo apt-get install python-virtualenv"
   ]
  },
  {
   "cell_type": "markdown",
   "metadata": {},
   "source": [
    "# make virtualenv\n"
   ]
  },
  {
   "cell_type": "code",
   "execution_count": null,
   "metadata": {},
   "outputs": [],
   "source": [
    "pd@asghar:~$ virtualenv -p python3 FlaskEnv\n",
    "Running virtualenv with interpreter /usr/bin/python3\n",
    "Using base prefix '/usr'\n",
    "New python executable in /home/pd/FlaskEnv/bin/python3\n",
    "Also creating executable in /home/pd/FlaskEnv/bin/python\n",
    "Installing setuptools, pip, wheel...done.\n",
    "\n",
    "\n",
    "pd@asghar:~$ source /home/pd/FlaskEnv/bin/activate\n",
    "(FlaskEnv) pd@asghar:~$ "
   ]
  },
  {
   "cell_type": "markdown",
   "metadata": {},
   "source": [
    "# Installing an IDE\n",
    "\n",
    "<img src='pics/top_python_ides.eps.png'>\n",
    "\n",
    "###  PyCharm:\n",
    "\n",
    "1. Created by JetBrains\n",
    "2. Closed Source \n",
    "3. Windows, MacOS and Linux support\n",
    "4. Designed for Python, Javascript, Coffeescript, Typescript, HTML/CSS, AngularJS, Node.js and more\n",
    "5. Features integrated unit testing, code inspection, integrated version control, code refactoring tools, a variety of tools for project navigation, highlighting and automated completion.\n",
    "6. Supports multiple third party web development frameworks like Django, Pyramid, web2py, google app engine and  Flask which makes it a complete Rapid application development IDE.\n",
    "\n",
    "\n",
    "### Atom\n",
    "\n",
    "1. Atom describes itself as a \"hackable text editor for the 21st Century\". \n",
    "2. It's maintained by social coding megalith GitHub, so as you'd expect it can do pretty much anything you can imagine. And if it can't, then someone's almost certainly working on a plugin to address that.\n",
    "3. Atom has its own comprehensive package manager, and a huge community working on packages for it.\n",
    "3. This offering is based on the electron framework, so Atom is cross-platform, but also has a not inconsiderable memory footprint.\n",
    "4. Despite all its features, Atom has a clean interface and is much more beginner-friendly than you'd expect. \n",
    "\n",
    "\n",
    "### Eclipse:\n",
    "\n",
    "1. General purpose platform\n",
    "2. Supported by all OSs \n",
    "3. Open-source IDEs and supports a whole ecosystem of languages\n",
    "4. Tons of plugins "
   ]
  },
  {
   "cell_type": "markdown",
   "metadata": {},
   "source": [
    "# Installation process\n",
    "\n",
    "1. download: https://atom.io/\n",
    "2. run -> next -> next -> ... -> finish\n",
    "3. install auto complete package: https://atom.io/packages/autocomplete-python\n",
    "4. add virtualEnv directory to extra path"
   ]
  },
  {
   "cell_type": "markdown",
   "metadata": {},
   "source": [
    "## Flask"
   ]
  },
  {
   "cell_type": "code",
   "execution_count": null,
   "metadata": {},
   "outputs": [],
   "source": [
    "(FlaskEnv) pd@asghar:~$ pip install -U flask\n",
    "    \n",
    "Installing collected packages: click, MarkupSafe, Jinja2, Werkzeug, itsdangerous, flask\n",
    "Successfully installed Jinja2-2.10 MarkupSafe-1.0 Werkzeug-0.14.1 click-6.7 flask-0.12.2 itsdangerous-0.24"
   ]
  },
  {
   "cell_type": "markdown",
   "metadata": {},
   "source": [
    "## Flask Structure\n"
   ]
  },
  {
   "cell_type": "code",
   "execution_count": null,
   "metadata": {},
   "outputs": [],
   "source": [
    "~/LargeApp\n",
    "    |-- run.py\n",
    "    |-- config.py\n",
    "    |__ /env             # Virtual Environment\n",
    "    |__ /app             # Our Application Module\n",
    "         |-- __init__.py\n",
    "         |__ /templates\n",
    "         |__ /static"
   ]
  },
  {
   "cell_type": "markdown",
   "metadata": {},
   "source": [
    "# Dive Into Flask"
   ]
  },
  {
   "cell_type": "code",
   "execution_count": null,
   "metadata": {},
   "outputs": [],
   "source": [
    "pd@asghar:~$ mkdir myproject\n",
    "pd@asghar:~$ touch MyCuteApp.py"
   ]
  },
  {
   "cell_type": "code",
   "execution_count": null,
   "metadata": {},
   "outputs": [],
   "source": [
    "from flask import Flask\n",
    "\n",
    "little_app = Flask(__name__)\n",
    "\n",
    "@little_app.route('/')\n",
    "def say_hello():\n",
    "    return 'hello ;-*'"
   ]
  },
  {
   "cell_type": "code",
   "execution_count": null,
   "metadata": {},
   "outputs": [],
   "source": [
    "(flaskEnv) pd@asghar:~$ FLASK_APP=MyCuteApp.py flask run"
   ]
  }
 ],
 "metadata": {
  "kernelspec": {
   "display_name": "Python 3",
   "language": "python",
   "name": "python3"
  },
  "language_info": {
   "codemirror_mode": {
    "name": "ipython",
    "version": 3
   },
   "file_extension": ".py",
   "mimetype": "text/x-python",
   "name": "python",
   "nbconvert_exporter": "python",
   "pygments_lexer": "ipython3",
   "version": "3.5.3"
  }
 },
 "nbformat": 4,
 "nbformat_minor": 2
}
