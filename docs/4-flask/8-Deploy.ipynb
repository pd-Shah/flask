{
 "cells": [
  {
   "cell_type": "markdown",
   "metadata": {},
   "source": [
    "# Pedram ShahSafi\n",
    "\n",
    "# pd.shahsafi@gmail.com\n",
    "\n",
    "<img src=\"pics/1.jpg\" />\n",
    "\n",
    "## Make the Project Installable\n",
    "Making your project installable means that you can build a distribution file and install that in another environment, just like you installed Flask in your project’s environment. This makes deploying your project the same as installing any other library, so you’re using all the standard Python tools to manage everything.\n",
    "\n",
    "Installing also comes with other benefits that might not be obvious from the tutorial or as a new Python user, including:\n",
    "\n",
    "1. Currently, Python and Flask understand how to use the flaskr package only because you’re running from your project’s directory. Installing means you can import it no matter where you run from.\n",
    "\n",
    "2. You can manage your project’s dependencies just like other packages do, so pip install yourproject.whl installs them.\n",
    "\n",
    "3. Test tools can isolate your test environment from your development environment.\n",
    "\n",
    "\n",
    "## setup.py\n",
    "\n",
    "The setup.py file describes your project and the files that belong to it.\n",
    "\n",
    "#### setup.py"
   ]
  },
  {
   "cell_type": "code",
   "execution_count": null,
   "metadata": {},
   "outputs": [],
   "source": [
    "from setuptools import find_packages, setup\n",
    "\n",
    "setup(\n",
    "    name='flaskr',\n",
    "    version='1.0.0',\n",
    "    packages=find_packages(),\n",
    "    include_package_data=True,\n",
    "    zip_safe=False,\n",
    "    install_requires=[\n",
    "        'flask',\n",
    "    ],\n",
    ")"
   ]
  },
  {
   "cell_type": "markdown",
   "metadata": {},
   "source": [
    "1. packages tells Python what package directories (and the Python files they contain) to include. \n",
    "2. find_packages() finds these directories automatically so you don’t have to type them out. \n",
    "\n",
    "#### MANIFEST.in\n",
    "\n",
    "To include other files, such as the static and templates directories, include_package_data is set. Python needs another file named MANIFEST.in to tell what this other data is."
   ]
  },
  {
   "cell_type": "code",
   "execution_count": null,
   "metadata": {},
   "outputs": [],
   "source": [
    "include flaskr/schema.sql\n",
    "graft flaskr/static\n",
    "graft flaskr/templates\n",
    "global-exclude *.pyc"
   ]
  },
  {
   "cell_type": "markdown",
   "metadata": {},
   "source": [
    "This tells Python to copy everything in the static and templates directories, and the schema.sql file, but to exclude all bytecode files.\n",
    "\n",
    "\n",
    "### Install the Project\n",
    "Use <b>pip</b> to install your project in the <b>virtual environment</b>.\n",
    "\n"
   ]
  },
  {
   "cell_type": "code",
   "execution_count": null,
   "metadata": {},
   "outputs": [],
   "source": [
    "pip install -e ."
   ]
  },
  {
   "cell_type": "markdown",
   "metadata": {},
   "source": [
    "\n",
    "This tells pip to find <b>setup.py</b> in the <b> current directory and install it in editable or development mode</b>. \n",
    "\n",
    "Editable mode means that as <b>you make changes to your local code</b>, you’ll only need to re-install if you change the metadata about the project, such as its dependencies.\n",
    "\n",
    "### Deploy to Production\n",
    "This part of the tutorial assumes you have a server that you want to deploy your application to. It gives an overview of how to create the distribution file and install it, but won’t go into specifics about what server or software to use. You can set up a new environment on your development computer to try out the instructions below, but probably shouldn’t use it for hosting a real public application. See Deployment Options for a list of many different ways to host your application.\n",
    "\n",
    "### Build and Install\n",
    "When you want to deploy your application elsewhere, you build a distribution file. The current standard for Python distribution is the <b>wheel</b> format, with the <b>.whl</b> extension. Make sure the wheel library is installed first:\n"
   ]
  },
  {
   "cell_type": "code",
   "execution_count": null,
   "metadata": {},
   "outputs": [],
   "source": [
    "pip install wheel"
   ]
  },
  {
   "cell_type": "markdown",
   "metadata": {},
   "source": [
    "Running setup.py with Python gives you a command line tool to issue build-related commands. The <b>bdist_wheel</b> command will build a wheel distribution file."
   ]
  },
  {
   "cell_type": "code",
   "execution_count": null,
   "metadata": {},
   "outputs": [],
   "source": [
    "python setup.py bdist_wheel"
   ]
  },
  {
   "cell_type": "markdown",
   "metadata": {},
   "source": [
    "You can find the file in <b>dist/flaskr-1.0.0-py3-none-any.whl</b>. \n",
    "\n",
    "The file name is the name of the project, the version, and some tags about the file can install.\n",
    "\n",
    "Copy this file to another machine, set up a new virtualenv, then install the file with pip."
   ]
  },
  {
   "cell_type": "code",
   "execution_count": null,
   "metadata": {},
   "outputs": [],
   "source": [
    "pip install flaskr-1.0.0-py3-none-any.whl"
   ]
  },
  {
   "cell_type": "markdown",
   "metadata": {},
   "source": [
    "Pip will install your project along with its dependencies.\n",
    "\n",
    "Since this is a different machine, you <b> need to run init-db </b> again to create the database in the instance folder.\n"
   ]
  },
  {
   "cell_type": "code",
   "execution_count": null,
   "metadata": {},
   "outputs": [],
   "source": [
    "export FLASK_APP=flaskr\n",
    "flask init-db"
   ]
  },
  {
   "cell_type": "markdown",
   "metadata": {},
   "source": [
    "When Flask detects that it’s installed (not in editable mode), it uses a <b>different directory for the instance folder</b>. You can find it at <b>venv/var/flaskr-instance</b> instead."
   ]
  },
  {
   "cell_type": "markdown",
   "metadata": {},
   "source": [
    "## Configure the Secret Key\n",
    "In the beginning of the tutorial that you gave a default value for SECRET_KEY. This should be changed to some random bytes in production. Otherwise, attackers could use the public 'dev' key to modify the session cookie, or anything else that uses the secret key.\n",
    "\n",
    "You can use the following command to output a random secret key:"
   ]
  },
  {
   "cell_type": "code",
   "execution_count": null,
   "metadata": {},
   "outputs": [],
   "source": [
    "python -c 'import os; print(os.urandom(16))'\n",
    "\n",
    "b'_5#y2L\"F4Q8z\\n\\xec]/'"
   ]
  },
  {
   "cell_type": "markdown",
   "metadata": {},
   "source": [
    "Create the config.py file in the instance folder, which the factory will read from if it exists. Copy the generated value into it.\n",
    "\n",
    "#### venv/var/flaskr-instance/config.py"
   ]
  },
  {
   "cell_type": "code",
   "execution_count": null,
   "metadata": {},
   "outputs": [],
   "source": [
    "SECRET_KEY = b'_5#y2L\"F4Q8z\\n\\xec]/'"
   ]
  },
  {
   "cell_type": "markdown",
   "metadata": {},
   "source": [
    "## Run with a Production Server\n",
    "When running publicly rather than in development, you should not use the built-in development server (flask run). The <b> development server is provided by Werkzeug</b> for convenience, but <b>is not designed to be particularly efficient, stable, or secure</b>.\n",
    "\n",
    "<b>Instead, use a production WSGI server</b>. For example, to use <b> Waitress</b>, first install it in the virtual environment:\n",
    "\n",
    "\n",
    "\n"
   ]
  },
  {
   "cell_type": "code",
   "execution_count": null,
   "metadata": {},
   "outputs": [],
   "source": [
    "pip install waitress"
   ]
  },
  {
   "cell_type": "markdown",
   "metadata": {},
   "source": [
    "You need to tell Waitress about your application, but it doesn’t use FLASK_APP like flask run does. You need to tell it to import and call the application factory to get an application object.\n"
   ]
  },
  {
   "cell_type": "code",
   "execution_count": null,
   "metadata": {},
   "outputs": [],
   "source": [
    "waitress-serve --call 'flaskr:create_app'\n",
    "\n",
    "Serving on http://0.0.0.0:8080\n"
   ]
  }
 ],
 "metadata": {
  "kernelspec": {
   "display_name": "Python 3",
   "language": "python",
   "name": "python3"
  },
  "language_info": {
   "codemirror_mode": {
    "name": "ipython",
    "version": 3
   },
   "file_extension": ".py",
   "mimetype": "text/x-python",
   "name": "python",
   "nbconvert_exporter": "python",
   "pygments_lexer": "ipython3",
   "version": "3.5.3"
  }
 },
 "nbformat": 4,
 "nbformat_minor": 2
}
