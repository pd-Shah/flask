{
 "cells": [
  {
   "cell_type": "markdown",
   "metadata": {},
   "source": [
    "# Pedram ShahSafi\n",
    "\n",
    "# pd.shahsafi@gmail.com\n",
    "\n",
    "<img src=\"pics/1.png\" />\n",
    "\n",
    "## blog template\n",
    "\n",
    "<img src=\"pics/template.png\" />\n",
    "\n",
    "## blog partitions\n",
    "\n",
    "<img src=\"pics/partitions.png\" />\n",
    "\n",
    "##  jumbotron\n",
    "\n",
    "#### https://getbootstrap.com/docs/4.1/components/jumbotron/"
   ]
  },
  {
   "cell_type": "code",
   "execution_count": null,
   "metadata": {},
   "outputs": [],
   "source": [
    "<style media=\"screen\">\n",
    "  .jumbotron{\n",
    "    text-align: center;\n",
    "  }\n",
    "</style>\n",
    "    \n",
    "<header>\n",
    "    <div class=\"container\">\n",
    "      <div class=\"jumbotron\">\n",
    "          <img src=\"pics/Screen-Shot-2018-06-17-at-10.27.02-1.png\" alt=\"something wrong\" height=\"150\" width=\"150\">\n",
    "          <h1 class=\"display-4\"> Kate </h1>\n",
    "          <p class=\"lead\">I am a doctor, but also a terminally ill cancer patient. During a hospital stay in August 2013 with post-operative sepsis, I made the stark observation that many staff</p>\n",
    "          <hr class=\"my-4\">\n",
    "          <p>ooking after me did not introduce themselves before delivering my care. It felt incredibly wrong that such a basic step in communication was missing. After ranting at my husband during one evening visiting time he encouraged me to “stop whinging and do something!”</p>\n",
    "\n",
    "          <a class=\"btn btn-primary btn-lg\" href=\"#\" role=\"button\">Learn more</a>\n",
    "      </div>\n",
    "    </div>\n",
    "</header>"
   ]
  },
  {
   "cell_type": "markdown",
   "metadata": {},
   "source": [
    "## navbar\n",
    "#### https://getbootstrap.com/docs/4.1/components/navbar/"
   ]
  },
  {
   "cell_type": "code",
   "execution_count": null,
   "metadata": {},
   "outputs": [],
   "source": [
    "  <nav class=\"navbar navbar-expand-lg navbar-light bg-light\">\n",
    "    <a class=\"navbar-brand\" href=\"#\">Navbar</a>\n",
    "    <div class=\"collapse navbar-collapse\" id=\"navbarNavAltMarkup\">\n",
    "      <div class=\"navbar-nav\">\n",
    "        <a class=\"nav-item nav-link active\" href=\"#\">Home <span class=\"sr-only\">(current)</span></a>\n",
    "        <a class=\"nav-item nav-link\" href=\"#\">Features</a>\n",
    "        <a class=\"nav-item nav-link\" href=\"#\">Pricing</a>\n",
    "        <a class=\"nav-item nav-link disabled\" href=\"#\">Disabled</a>\n",
    "      </div>\n",
    "    </div>\n",
    "    <form class=\"form-inline\">\n",
    "      <input class=\"form-control mr-sm-2\" type=\"search\" placeholder=\"Search\" aria-label=\"Search\">\n",
    "      <button class=\"btn btn-outline-success my-2 my-sm-0\" type=\"submit\">Search</button>\n",
    "    </form>\n",
    "  </nav>"
   ]
  },
  {
   "cell_type": "markdown",
   "metadata": {},
   "source": [
    "## all together"
   ]
  },
  {
   "cell_type": "code",
   "execution_count": null,
   "metadata": {},
   "outputs": [],
   "source": [
    "<!doctype html>\n",
    "<html lang=\"en\">\n",
    "  <head>\n",
    "    <!-- Required meta tags -->\n",
    "    <meta charset=\"utf-8\">\n",
    "    <meta name=\"viewport\" content=\"width=device-width, initial-scale=1, shrink-to-fit=no\">\n",
    "\n",
    "    <!-- Bootstrap CSS -->\n",
    "    <link rel=\"stylesheet\" href=\"https://stackpath.bootstrapcdn.com/bootstrap/4.1.3/css/bootstrap.min.css\" integrity=\"sha384-MCw98/SFnGE8fJT3GXwEOngsV7Zt27NXFoaoApmYm81iuXoPkFOJwJ8ERdknLPMO\" crossorigin=\"anonymous\">\n",
    "    <title>Hello, world!</title>\n",
    "    <style media=\"screen\">\n",
    "      .jumbotron{\n",
    "        text-align: center;\n",
    "      }\n",
    "    </style>\n",
    "  </head>\n",
    "\n",
    "  <header>\n",
    "    <div class=\"container\">\n",
    "\n",
    "      <nav class=\"navbar navbar-expand-lg navbar-light bg-light\">\n",
    "        <a class=\"navbar-brand\" href=\"#\">Navbar</a>\n",
    "        <div class=\"collapse navbar-collapse\" id=\"navbarNavAltMarkup\">\n",
    "          <div class=\"navbar-nav\">\n",
    "            <a class=\"nav-item nav-link active\" href=\"#\">Home <span class=\"sr-only\">(current)</span></a>\n",
    "            <a class=\"nav-item nav-link\" href=\"#\">Features</a>\n",
    "            <a class=\"nav-item nav-link\" href=\"#\">Pricing</a>\n",
    "            <a class=\"nav-item nav-link disabled\" href=\"#\">Disabled</a>\n",
    "          </div>\n",
    "        </div>\n",
    "        <form class=\"form-inline\">\n",
    "          <input class=\"form-control mr-sm-2\" type=\"search\" placeholder=\"Search\" aria-label=\"Search\">\n",
    "          <button class=\"btn btn-outline-success my-2 my-sm-0\" type=\"submit\">Search</button>\n",
    "        </form>\n",
    "      </nav>\n",
    "\n",
    "      <div class=\"jumbotron\">\n",
    "        <img src=\"pics/Screen-Shot-2018-06-17-at-10.27.02-1.png\" alt=\"something wrong\" height=\"100\" width=\"100\">\n",
    "        <h1 class=\"display-6\"> Kate </h1>\n",
    "        <p class=\"lead\">I am a doctor, but also a terminally ill cancer patient. During a hospital stay in August 2013 with post-operative sepsis, I made the stark observation that many staff</p>\n",
    "        <hr class=\"my-1\">\n",
    "        <p>ooking after me did not introduce themselves before delivering my care. It felt incredibly wrong that such a basic step in communication was missing. After ranting at my husband during one evening visiting time he encouraged me to “stop whinging and do something!”</p>\n",
    "        <a class=\"btn btn-warning\" href=\"#\" role=\"button\">Learn more</a>\n",
    "     </div>\n",
    "    </div>\n",
    "  </header>\n",
    "\n",
    "  <body>\n",
    "  </body>\n",
    "\n",
    "  <footer>\n",
    "      <!-- Optional JavaScript -->\n",
    "      <!-- jQuery first, then Popper.js, then Bootstrap JS -->\n",
    "      <script src=\"https://code.jquery.com/jquery-3.3.1.slim.min.js\" integrity=\"sha384-q8i/X+965DzO0rT7abK41JStQIAqVgRVzpbzo5smXKp4YfRvH+8abtTE1Pi6jizo\" crossorigin=\"anonymous\"></script>\n",
    "      <script src=\"https://cdnjs.cloudflare.com/ajax/libs/popper.js/1.14.3/umd/popper.min.js\" integrity=\"sha384-ZMP7rVo3mIykV+2+9J3UJ46jBk0WLaUAdn689aCwoqbBJiSnjAK/l8WvCWPIPm49\" crossorigin=\"anonymous\"></script>\n",
    "      <script src=\"https://stackpath.bootstrapcdn.com/bootstrap/4.1.3/js/bootstrap.min.js\" integrity=\"sha384-ChfqqxuZUCnJSK3+MXmPNIyE6ZbWh2IMqE241rYiqJxyMiZ6OW/JmZQ5stwEULTy\" crossorigin=\"anonymous\"></script>\n",
    "  </footer>\n",
    "</html>\n"
   ]
  },
  {
   "cell_type": "markdown",
   "metadata": {},
   "source": [
    "<img src=\"pics/Screenshot from 2018-09-24 15-58-13.png\" />"
   ]
  }
 ],
 "metadata": {
  "kernelspec": {
   "display_name": "Python 3",
   "language": "python",
   "name": "python3"
  },
  "language_info": {
   "codemirror_mode": {
    "name": "ipython",
    "version": 3
   },
   "file_extension": ".py",
   "mimetype": "text/x-python",
   "name": "python",
   "nbconvert_exporter": "python",
   "pygments_lexer": "ipython3",
   "version": "3.5.3"
  }
 },
 "nbformat": 4,
 "nbformat_minor": 2
}
