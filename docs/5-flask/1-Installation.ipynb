{
 "cells": [
  {
   "cell_type": "markdown",
   "metadata": {},
   "source": [
    "<link href=\"https://fonts.googleapis.com/css?family=Merriweather&display=swap\" rel=\"stylesheet\"> \n",
    "<link rel=\"stylesheet\" href=\"https://cdnjs.cloudflare.com/ajax/libs/bulma/0.7.5/css/bulma.min.css\">\n",
    "\n",
    "# FLASK\n",
    "\n",
    "<h1 class=\"title\" style=\"font-family: 'Merriweather', serif;\">Pedram ShahSafi</h1>\n",
    "<h2 class=\"subtitle\" style=\"font-family: 'Josefin Sans', sans-serif;\">pd.shahsafi@gmail.com</h2>\n",
    "\n",
    "\n",
    "\n",
    "\n",
    "<img src=\"pics/ezgif.com-webp-to-jpg.jpg\" />"
   ]
  },
  {
   "cell_type": "markdown",
   "metadata": {},
   "source": [
    "## Installation\n",
    "\n",
    "<img src=\"pics/funny-wizard-install-program.jpg\">\n"
   ]
  },
  {
   "cell_type": "markdown",
   "metadata": {},
   "source": [
    "Flask depends on some external libraries, like Werkzeug and Jinja2. \n",
    "1. Werkzeug is a toolkit for WSGI, the standard Python interface between web applications and a variety of servers for both development and deployment.\n",
    "2. Jinja2 renders templates.\n"
   ]
  },
  {
   "cell_type": "code",
   "execution_count": null,
   "metadata": {},
   "outputs": [],
   "source": [
    "[pd@asghar src]$ python3 -m venv venv\n",
    "[pd@asghar src]$ source venv/bin/activate\n",
    "(venv) [pd@asghar src]$ "
   ]
  },
  {
   "cell_type": "markdown",
   "metadata": {},
   "source": [
    "<img src='pics/2.jpg'> \n",
    "\n",
    "# Installing an IDE\n",
    "\n",
    "<img src='pics/top_python_ides.eps.png'>\n",
    "\n",
    "###  PyCharm:\n",
    "\n",
    "1. Created by JetBrains\n",
    "2. Closed Source \n",
    "3. Windows, MacOS and Linux support\n",
    "4. Designed for Python, Javascript, Coffeescript, Typescript, HTML/CSS, AngularJS, Node.js and more\n",
    "5. Features integrated unit testing, code inspection, integrated version control, code refactoring tools, a variety of tools for project navigation, highlighting and automated completion.\n",
    "6. Supports multiple third party web development frameworks like Django, Pyramid, web2py, google app engine and  Flask which makes it a complete Rapid application development IDE.\n",
    "\n",
    "\n",
    "### Atom\n",
    "\n",
    "1. Atom describes itself as a \"hackable text editor for the 21st Century\". \n",
    "2. It's maintained by social coding megalith GitHub, so as you'd expect it can do pretty much anything you can imagine. And if it can't, then someone's almost certainly working on a plugin to address that.\n",
    "3. Atom has its own comprehensive package manager, and a huge community working on packages for it.\n",
    "3. This offering is based on the electron framework, so Atom is cross-platform, but also has a not inconsiderable memory footprint.\n",
    "4. Despite all its features, Atom has a clean interface and is much more beginner-friendly than you'd expect. \n",
    "\n",
    "\n",
    "### Eclipse:\n",
    "\n",
    "1. General purpose platform\n",
    "2. Supported by all OSs \n",
    "3. Open-source IDEs and supports a whole ecosystem of languages\n",
    "4. Tons of plugins "
   ]
  },
  {
   "cell_type": "markdown",
   "metadata": {},
   "source": [
    "# Installation process\n",
    "\n",
    "1. download: https://atom.io/\n",
    "2. run -> next -> next -> ... -> finish\n",
    "3. install plugins"
   ]
  },
  {
   "cell_type": "markdown",
   "metadata": {},
   "source": [
    "## Flask"
   ]
  },
  {
   "cell_type": "code",
   "execution_count": null,
   "metadata": {},
   "outputs": [],
   "source": [
    "(venv) [pd@asghar src]$ pip install flask\n",
    "    \n",
    "Installing collected packages: click, MarkupSafe, Jinja2, Werkzeug, itsdangerous, flask\n",
    "Successfully installed Jinja2-2.10 MarkupSafe-1.0 Werkzeug-0.14.1 click-6.7 flask-0.12.2 itsdangerous-0.24"
   ]
  },
  {
   "cell_type": "markdown",
   "metadata": {},
   "source": [
    "## Project Structure\n"
   ]
  },
  {
   "cell_type": "code",
   "execution_count": null,
   "metadata": {},
   "outputs": [],
   "source": [
    ".\n",
    "├── app\n",
    "│   ├── __init__.py\n",
    "│   ├── init.py\n",
    "│   └── packages\n",
    "│      ├── auth\n",
    "│      │   ├── __init__.py\n",
    "│      │   ├── views\n",
    "│      │   │   ├── __init__.py\n",
    "│      │   │   ├── login.py\n",
    "│      │   │   └── register.py\n",
    "│      │   ├── forms\n",
    "│      │   │   ├── __init__.py\n",
    "│      │   │   ├── login.py\n",
    "│      │   │   └── registeration.py\n",
    "│      │   ├── logics\n",
    "│      │   │   ├── __init__.py\n",
    "│      │   │   ├── login.py\n",
    "│      │   │   └── register.py\n",
    "│      │   ├── models\n",
    "│      │   │   ├── __init__.py\n",
    "│      │   │   └── user.py\n",
    "│      │   └── templates\n",
    "│      │       └── auth\n",
    "│      │           ├── login.html\n",
    "│      │           └── register.html\n",
    "│      ├── blog\n",
    "│      │   ├── __init__.py\n",
    "│      │   ├── views\n",
    "│      │   ├── forms\n",
    "│      │   ├── logics\n",
    "│      │   └── templates\n",
    "│      │\n",
    "│      ├── email\n",
    "│      │   ├── __init__.py\n",
    "│      │   ├── views\n",
    "│      │   ├── forms\n",
    "│      │   ├── logics\n",
    "│      │   └── templates\n",
    "│      │\n",
    "│      └── error\n",
    "│         ├── __init__.py\n",
    "│         ├── views\n",
    "│         └── templates\n",
    "│      \n",
    "├── instance\n",
    "│   ├── config.py\n",
    "│   ├── db\n",
    "│   └── logs\n",
    "├── migrations\n",
    "│   └─ alembic.ini\n",
    "├── babel.cfg\n",
    "├── message.pot\n",
    "├── dropdb.py\n",
    "├── refresh.sh\n",
    "├── LICENSE\n",
    "├── README.md\n",
    "├── requirments.txt\n",
    "└── settings.py\n"
   ]
  },
  {
   "cell_type": "markdown",
   "metadata": {},
   "source": [
    "# Dive Into Flask"
   ]
  },
  {
   "cell_type": "code",
   "execution_count": null,
   "metadata": {},
   "outputs": [],
   "source": [
    "pd@asghar:~$ mkdir myproject\n",
    "pd@asghar:~$ touch MyCuteApp.py"
   ]
  },
  {
   "cell_type": "code",
   "execution_count": null,
   "metadata": {},
   "outputs": [],
   "source": [
    "from flask import Flask\n",
    "\n",
    "little_app = Flask(__name__)\n",
    "\n",
    "@little_app.route('/')\n",
    "def say_hello():\n",
    "    return 'hello ;-*'"
   ]
  },
  {
   "cell_type": "code",
   "execution_count": null,
   "metadata": {},
   "outputs": [],
   "source": [
    "(venv) [pd@asghar src]$ export FLASK_APP=MyCuteApp.py\n",
    "(venv) [pd@asghar src]$ flask run"
   ]
  },
  {
   "cell_type": "markdown",
   "metadata": {},
   "source": [
    "## Windows"
   ]
  },
  {
   "cell_type": "code",
   "execution_count": null,
   "metadata": {},
   "outputs": [],
   "source": [
    "set FLASK_APP=flaskr\n",
    "set FLASK_ENV=development\n",
    "flask run"
   ]
  },
  {
   "cell_type": "markdown",
   "metadata": {},
   "source": [
    "## GIT"
   ]
  },
  {
   "cell_type": "code",
   "execution_count": null,
   "metadata": {},
   "outputs": [],
   "source": [
    "git clone URL"
   ]
  },
  {
   "cell_type": "markdown",
   "metadata": {},
   "source": [
    "## __init__.py\n"
   ]
  },
  {
   "cell_type": "code",
   "execution_count": null,
   "metadata": {},
   "outputs": [],
   "source": [
    "(venv) [pd@asghar ~]$ cd project/\n",
    "(venv) [pd@asghar project]$ touch __init__.py\n",
    "(venv) [pd@asghar project]$ "
   ]
  },
  {
   "cell_type": "code",
   "execution_count": null,
   "metadata": {},
   "outputs": [],
   "source": [
    "def create_app():\n",
    "    app = Flask(import_name=__name__,)\n",
    "    \n",
    "    @app.route(\"/\")\n",
    "    def index():\n",
    "        return \"hi\"\n",
    "    \n",
    "    return app"
   ]
  },
  {
   "cell_type": "markdown",
   "metadata": {},
   "source": [
    "## python-dotenv\n",
    "\n",
    "Reads the key,value pair from .env file and adds them to environment variable. [ref](https://github.com/theskumar/python-dotenv)"
   ]
  },
  {
   "cell_type": "code",
   "execution_count": null,
   "metadata": {},
   "outputs": [],
   "source": [
    "(venv) [pd@asghar ~]$ touch .env "
   ]
  },
  {
   "cell_type": "code",
   "execution_count": null,
   "metadata": {},
   "outputs": [],
   "source": [
    "FLASK_APP=MyCuteApp.py\n",
    "FLASK_ENV=development\n",
    "FLASK_DEBUG=1"
   ]
  }
 ],
 "metadata": {
  "kernelspec": {
   "display_name": "Python 3",
   "language": "python",
   "name": "python3"
  },
  "language_info": {
   "codemirror_mode": {
    "name": "ipython",
    "version": 3
   },
   "file_extension": ".py",
   "mimetype": "text/x-python",
   "name": "python",
   "nbconvert_exporter": "python",
   "pygments_lexer": "ipython3",
   "version": "3.7.3"
  }
 },
 "nbformat": 4,
 "nbformat_minor": 2
}
