{
 "cells": [
  {
   "cell_type": "markdown",
   "metadata": {},
   "source": [
    "<link href=\"https://fonts.googleapis.com/css?family=Merriweather&display=swap\" rel=\"stylesheet\"> \n",
    "<link rel=\"stylesheet\" href=\"https://cdnjs.cloudflare.com/ajax/libs/bulma/0.7.5/css/bulma.min.css\">\n",
    "\n",
    "# FLASK\n",
    "\n",
    "<h1 class=\"title\" style=\"font-family: 'Merriweather', serif;\">Pedram ShahSafi</h1>\n",
    "<h2 class=\"subtitle\" style=\"font-family: 'Josefin Sans', sans-serif;\">pd.shahsafi@gmail.com</h2>\n",
    "\n",
    "\n",
    "# Jinja2\n",
    "\n",
    "<img src=\"pics/3.jpg\" />"
   ]
  },
  {
   "cell_type": "markdown",
   "metadata": {},
   "source": [
    "## Installation"
   ]
  },
  {
   "cell_type": "code",
   "execution_count": null,
   "metadata": {},
   "outputs": [],
   "source": [
    "pip install Jinja2"
   ]
  },
  {
   "cell_type": "markdown",
   "metadata": {},
   "source": [
    "## usage\n"
   ]
  },
  {
   "cell_type": "code",
   "execution_count": null,
   "metadata": {},
   "outputs": [],
   "source": [
    ">>> from jinja2 import Template\n",
    ">>> template = Template('Hello {{ name }}!')\n",
    ">>> template.render(name='John Doe')\n",
    "u'Hello John Doe!'"
   ]
  },
  {
   "cell_type": "code",
   "execution_count": null,
   "metadata": {},
   "outputs": [],
   "source": [
    "(venv) $ mkdir app/templates"
   ]
  },
  {
   "cell_type": "code",
   "execution_count": null,
   "metadata": {},
   "outputs": [],
   "source": [
    "<html>\n",
    "    <head>\n",
    "        <title>{{ title }} - Blah Title </title>\n",
    "    </head>\n",
    "    <body>\n",
    "        <h1>{{ object.key }}</h1>\n",
    "    </body>\n",
    "</html>"
   ]
  },
  {
   "cell_type": "code",
   "execution_count": null,
   "metadata": {},
   "outputs": [],
   "source": [
    "def index():\n",
    "    object = {'key': 'value'}\n",
    "    return render_template('index.html', title='Home', object=object)"
   ]
  },
  {
   "cell_type": "markdown",
   "metadata": {},
   "source": [
    "## conditional"
   ]
  },
  {
   "cell_type": "code",
   "execution_count": null,
   "metadata": {},
   "outputs": [],
   "source": [
    "{% if condition %}\n",
    "    <title> one </title>\n",
    "{% else %}\n",
    "    <title> Two </title>\n",
    "{% endif %}"
   ]
  },
  {
   "cell_type": "markdown",
   "metadata": {},
   "source": [
    "## LOOP"
   ]
  },
  {
   "cell_type": "code",
   "execution_count": null,
   "metadata": {},
   "outputs": [],
   "source": [
    "{% for obj in obj_list %}\n",
    "    {{ obj.key }}\n",
    "{% endfor %}"
   ]
  },
  {
   "cell_type": "markdown",
   "metadata": {},
   "source": [
    "## Inheritance"
   ]
  },
  {
   "cell_type": "code",
   "execution_count": null,
   "metadata": {},
   "outputs": [],
   "source": [
    "<html>\n",
    "    <head>\n",
    "      {% if cond %}\n",
    "          one\n",
    "      {% else %}\n",
    "          Two\n",
    "      {% endif %}\n",
    "    </head>\n",
    "    <body>\n",
    "        <a href=\"\">Home</a>\n",
    "        <hr>\n",
    "        {% block content %}{% endblock %}\n",
    "    </body>\n",
    "</html>"
   ]
  },
  {
   "cell_type": "code",
   "execution_count": null,
   "metadata": {},
   "outputs": [],
   "source": [
    "{% block content %}\n",
    "    {% for obj in obj_list %}\n",
    "        {{ obj.key }}\n",
    "    {% endfor %}\n",
    "{% endblock %}"
   ]
  },
  {
   "cell_type": "markdown",
   "metadata": {},
   "source": [
    "## BluePrint"
   ]
  },
  {
   "cell_type": "code",
   "execution_count": null,
   "metadata": {},
   "outputs": [],
   "source": [
    "(venv) $ mkdir blog/templates/bloggr"
   ]
  },
  {
   "cell_type": "code",
   "execution_count": null,
   "metadata": {},
   "outputs": [],
   "source": [
    "from flask import (\n",
    "    Blueprint,\n",
    "    render_template,\n",
    ")\n",
    "\n",
    "\n",
    "bp = Blueprint(\n",
    "    name=\"index\",\n",
    "    import_name=__name__,\n",
    "    url_prefix=\"/index\",\n",
    "    template_folder=\"templates\"\n",
    ")\n"
   ]
  },
  {
   "cell_type": "code",
   "execution_count": null,
   "metadata": {},
   "outputs": [],
   "source": [
    "def create_app():\n",
    "    app.register_blueprint(index.bp)"
   ]
  },
  {
   "cell_type": "markdown",
   "metadata": {},
   "source": [
    "# Lets do This\n"
   ]
  },
  {
   "cell_type": "markdown",
   "metadata": {},
   "source": [
    "## views.py"
   ]
  },
  {
   "cell_type": "code",
   "execution_count": null,
   "metadata": {},
   "outputs": [],
   "source": [
    "@bp.route(\"/\", methods=[\"GET\"], )\n",
    "def show():\n",
    "    user = {'username': 'pd'}\n",
    "    posts = [\n",
    "        {\n",
    "            'author': {'username': 'pd'},\n",
    "            'body': 'Hey there!'\n",
    "        },\n",
    "        {\n",
    "            'author': {'username': 'SOW'},\n",
    "            'body': 'HELLO!'\n",
    "        },\n",
    "    ]\n",
    "    return render_template(\"index/index.html\", user=user, posts=posts)"
   ]
  },
  {
   "cell_type": "markdown",
   "metadata": {},
   "source": [
    "## index.html"
   ]
  },
  {
   "cell_type": "code",
   "execution_count": null,
   "metadata": {},
   "outputs": [],
   "source": [
    "{% extends \"base.html\" %}\n",
    "\n",
    "{% block content %}\n",
    "\n",
    "  <h1>Hello <b>{{ user.username }}</b> </h1> \n",
    "  {% for post in posts%}\n",
    "    <div class=\"\">\n",
    "      {{ post.author.username }} <b>Says: </b> {{ post.body }}\n",
    "    </div>\n",
    "  {% endfor %}\n",
    "{% endblock %}"
   ]
  },
  {
   "cell_type": "markdown",
   "metadata": {},
   "source": [
    "## base.html"
   ]
  },
  {
   "cell_type": "code",
   "execution_count": null,
   "metadata": {},
   "outputs": [],
   "source": [
    "<!DOCTYPE html>\n",
    "<html lang=\"en\" dir=\"ltr\">\n",
    "  <head>\n",
    "    <meta charset=\"utf-8\">\n",
    "    <title></title>\n",
    "  </head>\n",
    "  <body>\n",
    "    <ul>\n",
    "      <li> <a href=\"{{ url_for('index') }}\"> Home </a></li>\n",
    "    </ul>\n",
    "    {% block content %} {% endblock %}\n",
    "  </body>\n",
    "</html>"
   ]
  }
 ],
 "metadata": {
  "kernelspec": {
   "display_name": "Python 3",
   "language": "python",
   "name": "python3"
  },
  "language_info": {
   "codemirror_mode": {
    "name": "ipython",
    "version": 3
   },
   "file_extension": ".py",
   "mimetype": "text/x-python",
   "name": "python",
   "nbconvert_exporter": "python",
   "pygments_lexer": "ipython3",
   "version": "3.7.3"
  }
 },
 "nbformat": 4,
 "nbformat_minor": 2
}
