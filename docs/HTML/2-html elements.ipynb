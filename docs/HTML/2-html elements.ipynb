{
 "cells": [
  {
   "cell_type": "markdown",
   "metadata": {},
   "source": [
    "# Pedram ShahSafi\n",
    "\n",
    "# pd.shahsafi@gmail.com\n",
    "\n",
    "<img src=\"pics/1.png\" />\n",
    "\n",
    "\n",
    "## HTML Documents\n"
   ]
  },
  {
   "cell_type": "raw",
   "metadata": {},
   "source": [
    "All HTML documents must start with a document type declaration: <!DOCTYPE html>.\n",
    "\n",
    "The HTML document itself begins with <html> and ends with </html>\n",
    "\n",
    "The visible part of the HTML document is between <body> and </body>."
   ]
  },
  {
   "cell_type": "code",
   "execution_count": null,
   "metadata": {},
   "outputs": [],
   "source": [
    "<!DOCTYPE html>\n",
    "<html>\n",
    "    <body>\n",
    "        <h1>My First Heading</h1>\n",
    "        <p>My first paragraph.</p>\n",
    "    </body>\n",
    "</html>"
   ]
  },
  {
   "cell_type": "markdown",
   "metadata": {},
   "source": [
    "## HTML Headings"
   ]
  },
  {
   "cell_type": "raw",
   "metadata": {},
   "source": [
    "HTML headings are defined with the <h1> to <h6> tags.\n",
    "<h1> defines the most important heading. <h6> defines the least important heading: "
   ]
  },
  {
   "cell_type": "code",
   "execution_count": null,
   "metadata": {},
   "outputs": [],
   "source": [
    "<h1>This is heading 1</h1>\n",
    "<h2>This is heading 2</h2>\n",
    "<h3>This is heading 3</h3>"
   ]
  },
  {
   "cell_type": "markdown",
   "metadata": {},
   "source": [
    "## HTML Paragraphs"
   ]
  },
  {
   "cell_type": "raw",
   "metadata": {},
   "source": [
    "HTML paragraphs are defined with the <p> tag:"
   ]
  },
  {
   "cell_type": "code",
   "execution_count": null,
   "metadata": {},
   "outputs": [],
   "source": [
    "<p>This is a paragraph.</p>\n",
    "<p>This is another paragraph.</p>"
   ]
  },
  {
   "cell_type": "markdown",
   "metadata": {},
   "source": [
    "## HTML Links"
   ]
  },
  {
   "cell_type": "raw",
   "metadata": {},
   "source": [
    "HTML links are defined with the <a> tag"
   ]
  },
  {
   "cell_type": "code",
   "execution_count": null,
   "metadata": {},
   "outputs": [],
   "source": [
    "<a href=\"https://www.google.com\">This is a link</a>"
   ]
  },
  {
   "cell_type": "markdown",
   "metadata": {},
   "source": [
    "## HTML Images\n",
    "\n",
    "The source file (src), alternative text (alt), width, and height are provided as attributes:"
   ]
  },
  {
   "cell_type": "raw",
   "metadata": {},
   "source": [
    "HTML images are defined with the <img> tag."
   ]
  },
  {
   "cell_type": "code",
   "execution_count": null,
   "metadata": {},
   "outputs": [],
   "source": [
    "<img src=\"mypic.jpg\" alt=\"ops!\" width=\"104\" height=\"142\">"
   ]
  },
  {
   "cell_type": "markdown",
   "metadata": {},
   "source": [
    "## HTML Buttons"
   ]
  },
  {
   "cell_type": "raw",
   "metadata": {},
   "source": [
    "HTML buttons are defined with the <button> tag:"
   ]
  },
  {
   "cell_type": "code",
   "execution_count": null,
   "metadata": {},
   "outputs": [],
   "source": [
    "<button>Click me</button>"
   ]
  },
  {
   "cell_type": "markdown",
   "metadata": {},
   "source": [
    "## HTML Lists"
   ]
  },
  {
   "cell_type": "raw",
   "metadata": {},
   "source": [
    "HTML lists are defined with the <ul> (unordered/bullet list) or the <ol> (ordered/numbered list) tag, followed by <li> tags (list items):"
   ]
  },
  {
   "cell_type": "code",
   "execution_count": null,
   "metadata": {},
   "outputs": [],
   "source": [
    "<ul>\n",
    "  <li>Coffee</li>\n",
    "  <li>Tea</li>\n",
    "  <li>Milk</li>\n",
    "</ul>\n"
   ]
  },
  {
   "cell_type": "markdown",
   "metadata": {},
   "source": [
    "## The style Attribute\n",
    "\n",
    "Setting the style of an HTML element, can be done with the style attribute."
   ]
  },
  {
   "cell_type": "code",
   "execution_count": null,
   "metadata": {},
   "outputs": [],
   "source": [
    "<tagname style=\"property:value;\">"
   ]
  },
  {
   "cell_type": "markdown",
   "metadata": {},
   "source": [
    "## HTML Background Color\n",
    "The background-color property defines the background color for an HTML element."
   ]
  },
  {
   "cell_type": "code",
   "execution_count": null,
   "metadata": {},
   "outputs": [],
   "source": [
    "<body style=\"background-color:powderblue;\">\n",
    "\n",
    "<h1>This is a heading</h1>\n",
    "<p>This is a paragraph.</p>\n",
    "\n",
    "</body>"
   ]
  },
  {
   "cell_type": "markdown",
   "metadata": {},
   "source": [
    "## HTML Text Color\n",
    "The color property defines the text color for an HTML element:"
   ]
  },
  {
   "cell_type": "code",
   "execution_count": null,
   "metadata": {},
   "outputs": [],
   "source": [
    "<h1 style=\"color:blue;\">This is a heading</h1>\n",
    "<p style=\"color:red;\">This is a paragraph.</p>"
   ]
  },
  {
   "cell_type": "markdown",
   "metadata": {},
   "source": [
    "## HTML Fonts\n",
    "The font-family property defines the font to be used for an HTML element:"
   ]
  },
  {
   "cell_type": "code",
   "execution_count": null,
   "metadata": {},
   "outputs": [],
   "source": [
    "<h1 style=\"font-family:verdana;\">This is a heading</h1>\n",
    "<p style=\"font-family:courier;\">This is a paragraph.</p>"
   ]
  },
  {
   "cell_type": "markdown",
   "metadata": {},
   "source": [
    "## HTML Text Alignment\n",
    "The text-align property defines the horizontal text alignment for an HTML element:\n"
   ]
  },
  {
   "cell_type": "code",
   "execution_count": null,
   "metadata": {},
   "outputs": [],
   "source": [
    "<h1 style=\"text-align:center;\">Centered Heading</h1>\n",
    "<p style=\"text-align:center;\">Centered paragraph.</p>"
   ]
  },
  {
   "cell_type": "markdown",
   "metadata": {},
   "source": [
    "## HTML Text Formatting Elements\n"
   ]
  },
  {
   "cell_type": "raw",
   "metadata": {},
   "source": [
    "\n",
    "<b>\t        Defines bold text\n",
    "<em>\t    Defines emphasized text \n",
    "<i>\t        Defines italic text\n",
    "<small>\t    Defines smaller text\n",
    "<strong>\tDefines important text\n",
    "<sub>\t    Defines subscripted text\n",
    "<sup>\t    Defines superscripted text\n",
    "<ins>\t    Defines inserted text\n",
    "<del>\t    Defines deleted text\n",
    "<mark>\t    Defines marked/highlighted text"
   ]
  },
  {
   "cell_type": "markdown",
   "metadata": {},
   "source": [
    "## HTML Colors\n"
   ]
  },
  {
   "cell_type": "markdown",
   "metadata": {},
   "source": [
    "<h1 style=\"background-color:DodgerBlue;\">Hello World</h1>\n",
    "<p style=\"background-color:Tomato;\">Lorem ipsum...</p>\n",
    "<h1 style=\"color:Tomato;\">Hello World</h1>\n",
    "<p style=\"color:DodgerBlue;\">Lorem ipsum...</p>\n",
    "<p style=\"color:MediumSeaGreen;\">Ut wisi enim...</p>\n",
    "<h1 style=\"border:2px solid Tomato;\">Hello World</h1>\n",
    "<h1 style=\"border:2px solid DodgerBlue;\">Hello World</h1>\n",
    "<h1 style=\"border:2px solid Violet;\">Hello World</h1>"
   ]
  },
  {
   "cell_type": "code",
   "execution_count": null,
   "metadata": {},
   "outputs": [],
   "source": []
  }
 ],
 "metadata": {
  "kernelspec": {
   "display_name": "Python 3",
   "language": "python",
   "name": "python3"
  },
  "language_info": {
   "codemirror_mode": {
    "name": "ipython",
    "version": 3
   },
   "file_extension": ".py",
   "mimetype": "text/x-python",
   "name": "python",
   "nbconvert_exporter": "python",
   "pygments_lexer": "ipython3",
   "version": "3.6.5"
  }
 },
 "nbformat": 4,
 "nbformat_minor": 2
}
