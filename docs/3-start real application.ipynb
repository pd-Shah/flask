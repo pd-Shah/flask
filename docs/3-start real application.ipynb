{
 "cells": [
  {
   "cell_type": "markdown",
   "metadata": {},
   "source": [
    "# Pedram ShahSafi\n",
    "\n",
    "# pd.shahsafi@gmail.com\n",
    "\n",
    "<img src=\"pics/1.jpg\" />"
   ]
  },
  {
   "cell_type": "markdown",
   "metadata": {},
   "source": [
    "# What Are We Going to Do\n",
    "\n",
    "we will walk through creating a basic blog application.\n",
    "\n",
    "Users will be able to register, log in, create posts, and edit or delete their own posts. \n",
    "\n",
    "You will be able to package and install the application on other computers.\n",
    "\n",
    "# Project Layout\n",
    "\n",
    "### our project layout is look like this:\n",
    "\n",
    "<img src='pics/Screenshot from 2018-08-16 13-12-44.png' >\n",
    "\n",
    "### The project directory will contain:\n",
    "\n",
    "1. flaskr/, a Python package containing your application code and files.\n",
    "2. tests/, a directory containing test modules.\n",
    "3. venv/, a Python virtual environment where Flask and other dependencies are installed.\n",
    "4. Installation files telling Python how to install your project.\n",
    "5. Version control config, such as git. You should make a habit of using some type of version control for all your projects, no matter the size.\n",
    "6. Any other project files you might add in the future.\n",
    "\n",
    "### the .gitignore file is contaions of \n",
    "\n",
    "<img src='pics/Screenshot from 2018-08-16 13-16-26.png'>"
   ]
  },
  {
   "cell_type": "markdown",
   "metadata": {},
   "source": [
    "# Application Setup\n",
    "\n",
    "A Flask application is an instance of the Flask class. Everything about the application, such as configuration and URLs, will be registered with this class.\n",
    "\n",
    "The most straightforward way to create a Flask application is to create a global Flask instance directly at the top of your code, like how the “Hello, World!” example did on the previous page. While this is simple and useful in some cases, it can cause some tricky issues as the project grows.\n",
    "\n",
    "Instead of creating a Flask instance globally, you will create it inside a function. This function is known as the application factory. Any configuration, registration, and other setup the application needs will happen inside the function, then the application will be returned.\n",
    "\n",
    "\n",
    "# The Application Factory\n",
    "\n",
    "It’s time to start coding! Create the flaskr directory and add the __init__.py file. The __init__.py serves double duty: it will contain the application factory, and it tells Python that the flaskr directory should be treated as a package."
   ]
  },
  {
   "cell_type": "code",
   "execution_count": null,
   "metadata": {},
   "outputs": [],
   "source": [
    "(flaskEnv) pd@asghar:~/project$ mkdir flaskr\n",
    "(flaskEnv) pd@asghar:~/project$ cd flaskr\n",
    "(flaskEnv) pd@asghar:~/project/flaskr$ touch __init__.py"
   ]
  },
  {
   "cell_type": "markdown",
   "metadata": {},
   "source": [
    "# __init__.py "
   ]
  },
  {
   "cell_type": "code",
   "execution_count": null,
   "metadata": {},
   "outputs": [],
   "source": [
    "import os\n",
    "\n",
    "from flask import Flask\n",
    "\n",
    "\n",
    "def create_app(test_config=None):\n",
    "    # create and configure the app\n",
    "    app = Flask(__name__, instance_relative_config=True)\n",
    "    app.config.from_mapping(\n",
    "        SECRET_KEY='dev',\n",
    "        DATABASE=os.path.join(app.instance_path, 'flaskr.sqlite'),\n",
    "    )\n",
    "\n",
    "    if test_config is None:\n",
    "        # load the instance config, if it exists, when not testing\n",
    "        app.config.from_pyfile('config.py', silent=True)\n",
    "    else:\n",
    "        # load the test config if passed in\n",
    "        app.config.from_mapping(test_config)\n",
    "\n",
    "    # ensure the instance folder exists\n",
    "    try:\n",
    "        os.makedirs(app.instance_path)\n",
    "    except OSError:\n",
    "        pass\n",
    "\n",
    "    # a simple page that says hello\n",
    "    @app.route('/hello')\n",
    "    def hello():\n",
    "        return 'Hello, World!'\n",
    "\n",
    "    return app"
   ]
  },
  {
   "cell_type": "markdown",
   "metadata": {},
   "source": [
    "create_app is the application factory function. You’ll add to it later in the tutorial, but it already does a lot.\n",
    "\n",
    "### app = Flask(__name__, instance_relative_config=True) \n",
    "\n",
    "#### creates the Flask instance.\n",
    "\n",
    "1. __name__ is the name of the current Python module. The app needs to know where it’s located to set up some paths, and __name__ is a convenient way to tell it that.\n",
    "\n",
    "2. instance_relative_config=True tells the app that configuration files are relative to the instance folder.\n",
    "\n",
    "3. The instance folder is located outside the flaskr package and can hold local data that shouldn’t be committed to version control, such as configuration secrets and the database file.\n",
    "\n",
    "### app.config.from_mapping()\n",
    "\n",
    "#### sets some default configuration that the app will use:\n",
    "\n",
    "1. SECRET_KEY is used by Flask and extensions to keep data safe. It’s set to 'dev' to provide a convenient value during development, but it should be overridden with a random value when deploying.\n",
    "\n",
    "2. DATABASE is the path where the SQLite database file will be saved. It’s under app.instance_path, which is the path that Flask has chosen for the instance folder. You’ll learn more about the database in the next section.\n",
    "\n",
    "### app.config.from_pyfile() \n",
    "\n",
    "#### overrides the default configuration with values taken from the config.py file in the instance folder if it exists. For example, when deploying, this can be used to set a real SECRET_KEY.\n",
    "1. test_config can also be passed to the factory, and will be used instead of the instance configuration. This is so the tests you’ll write later in the tutorial can be configured independently of any development values you have configured.\n",
    "\n",
    "2. os.makedirs() ensures that app.instance_path exists. Flask doesn’t create the instance folder automatically, but it needs to be created because your project will create the SQLite database file there.\n",
    "\n",
    "3. @app.route() creates a simple route so you can see the application working before getting into the rest of the tutorial. It creates a connection between the URL /hello and a function that returns a response, the string 'Hello, World!' in this case.\n",
    "\n",
    "\n",
    "# Run The Application\n",
    "\n",
    "Now you can run your application using the flask command. From the terminal, tell Flask where to find your application, then run it in development mode.\n",
    "\n",
    "Development mode shows an interactive debugger whenever a page raises an exception, and restarts the server whenever you make changes to the code. You can leave it running and just reload the browser page as you follow the tutorial.\n",
    "\n",
    "## For Linux and Mac:\n"
   ]
  },
  {
   "cell_type": "code",
   "execution_count": null,
   "metadata": {},
   "outputs": [],
   "source": [
    "export FLASK_APP=flaskr\n",
    "export FLASK_ENV=development\n",
    "flask run"
   ]
  },
  {
   "cell_type": "markdown",
   "metadata": {},
   "source": [
    "## For Windows cmd, use set instead of export:"
   ]
  },
  {
   "cell_type": "code",
   "execution_count": null,
   "metadata": {},
   "outputs": [],
   "source": [
    "set FLASK_APP=flaskr\n",
    "set FLASK_ENV=development\n",
    "flask run"
   ]
  },
  {
   "cell_type": "code",
   "execution_count": null,
   "metadata": {},
   "outputs": [],
   "source": [
    "(flaskEnv) pd@asghar:~/project$ FLASK_APP=flaskr flask run\n",
    " * Serving Flask app \"flaskr\"\n",
    " * Environment: production\n",
    "   WARNING: Do not use the development server in a production environment.\n",
    "   Use a production WSGI server instead.\n",
    " * Debug mode: off\n",
    " * Running on http://127.0.0.1:5000/ (Press CTRL+C to quit)\n",
    "127.0.0.1 - - [16/Aug/2018 14:19:26] \"GET / HTTP/1.1\" 200 -"
   ]
  },
  {
   "cell_type": "code",
   "execution_count": null,
   "metadata": {},
   "outputs": [],
   "source": [
    "(flaskEnv) pd@asghar:~/project$ export FLASK_APP=flaskr\n",
    "(flaskEnv) pd@asghar:~/project$ export FLASK_ENV=development\n",
    "(flaskEnv) pd@asghar:~/project$ flask run\n",
    " * Serving Flask app \"flaskr\" (lazy loading)\n",
    " * Environment: development\n",
    " * Debug mode: on\n",
    "[Errno 17] File exists: '/project/instance'\n",
    " * Running on http://127.0.0.1:5000/ (Press CTRL+C to quit)\n",
    " * Restarting with stat\n",
    "[Errno 17] File exists: 'project/instance'\n",
    " * Debugger is active!\n",
    " * Debugger PIN: 317-631-358"
   ]
  }
 ],
 "metadata": {
  "kernelspec": {
   "display_name": "Python 2",
   "language": "python",
   "name": "python2"
  },
  "language_info": {
   "codemirror_mode": {
    "name": "ipython",
    "version": 2
   },
   "file_extension": ".py",
   "mimetype": "text/x-python",
   "name": "python",
   "nbconvert_exporter": "python",
   "pygments_lexer": "ipython2",
   "version": "2.7.15rc1"
  }
 },
 "nbformat": 4,
 "nbformat_minor": 2
}
