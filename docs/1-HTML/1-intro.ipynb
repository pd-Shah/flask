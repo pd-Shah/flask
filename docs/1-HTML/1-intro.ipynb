{
 "cells": [
  {
   "cell_type": "markdown",
   "metadata": {},
   "source": [
    "# Pedram ShahSafi\n",
    "\n",
    "# pd.shahsafi@gmail.com\n",
    "\n",
    "<img src=\"pics/1.png\" />\n",
    "\n",
    "## What is HTML?\n",
    "\n",
    "Let’s imagine a website as a person. We’ll use this analogy to understand our website. The HTML is best described as the skeleton:\n",
    "\n",
    "<img src=\"pics/1_nm0JcvKyANiyLONtE0K9Rg.png\" />\n",
    "\n",
    "## What is CSS?\n",
    "\n",
    "However, just a plain HTML website looks pretty ugly, so you’ll need to style it with CSS. It can bee seen as the skin and clothing of the website.\n",
    "\n",
    "<img src=\"pics/1__7xje-aNFRomqrScCrXpjw.png\" />\n",
    "\n",
    "## What is JavaScript?\n",
    "\n",
    "Once you master CSS, you should continue to JavaScript. In our analogy, this is like the brains and muscles of our website:\n",
    "\n",
    "<img src=\"pics/1_yXJWX1VfK1e3-lm43NJHhA.png\" />\n",
    "\n",
    "## Writing first HTML page\n"
   ]
  },
  {
   "cell_type": "code",
   "execution_count": null,
   "metadata": {},
   "outputs": [],
   "source": [
    "<!DOCTYPE html>\n",
    "<html>\n",
    "  <head>\n",
    "  </head>\n",
    "  <body>\n",
    "    <h1>Hello world!</h1>\n",
    "    <p>Hello, and welcome to my website!<p>\n",
    "    <ul>\n",
    "      <li>Eat</li>\n",
    "      <li>Sleep</li>\n",
    "      <li>Code</li>\n",
    "    </ul>\n",
    "    <input type=\"text\" placeholder=\"Enter your email\" />\n",
    "  </body>\n",
    "</html>"
   ]
  },
  {
   "cell_type": "markdown",
   "metadata": {},
   "source": [
    "## The <!DOCTYPE> Declaration\n",
    "\n",
    "The <!DOCTYPE> declaration represents the document type, and helps browsers to display web pages correctly.\n",
    "\n",
    "It must only appear once, at the top of the page (before any HTML tags).\n",
    "\n",
    "The <!DOCTYPE> declaration is not case sensitive.\n",
    "\n",
    "The <!DOCTYPE> declaration for HTML5 is:"
   ]
  },
  {
   "cell_type": "code",
   "execution_count": null,
   "metadata": {},
   "outputs": [],
   "source": [
    "<!DOCTYPE html>"
   ]
  },
  {
   "cell_type": "markdown",
   "metadata": {},
   "source": [
    "The <!DOCTYPE html> declaration defines this document to be HTML5\n",
    "The <html> element is the root element of an HTML page\n",
    "The <head> element contains meta information about the document\n",
    "The <title> element specifies a title for the document\n",
    "The <body> element contains the visible page content\n",
    "The <h1> element defines a large heading\n",
    "The <p> element defines a paragraph"
   ]
  },
  {
   "cell_type": "markdown",
   "metadata": {},
   "source": [
    "<img src=\"pics/Screenshot from 2018-09-24 10-05-59.png\" />"
   ]
  }
 ],
 "metadata": {
  "kernelspec": {
   "display_name": "Python 3",
   "language": "python",
   "name": "python3"
  },
  "language_info": {
   "codemirror_mode": {
    "name": "ipython",
    "version": 3
   },
   "file_extension": ".py",
   "mimetype": "text/x-python",
   "name": "python",
   "nbconvert_exporter": "python",
   "pygments_lexer": "ipython3",
   "version": "3.5.3"
  }
 },
 "nbformat": 4,
 "nbformat_minor": 2
}
