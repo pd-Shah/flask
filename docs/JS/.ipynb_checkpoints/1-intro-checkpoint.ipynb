{
 "cells": [
  {
   "cell_type": "markdown",
   "metadata": {},
   "source": [
    "# Pedram ShahSafi\n",
    "\n",
    "# pd.shahsafi@gmail.com\n",
    "\n",
    "<img src=\"pics/javascript-vector-png-java-script-js-logo-format-ai-213.png\" />\n",
    "\n",
    "## What is HTML?\n",
    "\n",
    "Let’s imagine a website as a person. We’ll use this analogy to understand our website. The HTML is best described as the skeleton:\n",
    "\n",
    "<img src=\"pics/1_nm0JcvKyANiyLONtE0K9Rg.png\" />\n",
    "\n",
    "## What is CSS?\n",
    "\n",
    "However, just a plain HTML website looks pretty ugly, so you’ll need to style it with CSS. It can bee seen as the skin and clothing of the website.\n",
    "\n",
    "<img src=\"pics/1__7xje-aNFRomqrScCrXpjw.png\" />\n",
    "\n",
    "## What is JavaScript?\n",
    "\n",
    "Once you master CSS, you should continue to JavaScript. In our analogy, this is like the brains and muscles of our website:\n",
    "\n",
    "<img src=\"pics/1_yXJWX1VfK1e3-lm43NJHhA.png\" />\n",
    "\n",
    "<img src=\"pics/funny_button.gif\" />\n"
   ]
  }
 ],
 "metadata": {
  "kernelspec": {
   "display_name": "Python 3",
   "language": "python",
   "name": "python3"
  },
  "language_info": {
   "codemirror_mode": {
    "name": "ipython",
    "version": 3
   },
   "file_extension": ".py",
   "mimetype": "text/x-python",
   "name": "python",
   "nbconvert_exporter": "python",
   "pygments_lexer": "ipython3",
   "version": "3.5.3"
  }
 },
 "nbformat": 4,
 "nbformat_minor": 2
}
