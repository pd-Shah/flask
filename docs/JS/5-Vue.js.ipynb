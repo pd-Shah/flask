{
 "cells": [
  {
   "cell_type": "markdown",
   "metadata": {},
   "source": [
    "# Pedram ShahSafi\n",
    "\n",
    "# pd.shahsafi@gmail.com\n",
    "\n",
    "## Vue\n",
    "\n",
    "<img src=\"pics/logo.png\" />\n",
    "\n",
    "## What is Vue.js?\n",
    "\n",
    "jQuery is a fast, small, and feature-rich JavaScript library. It makes things like HTML document traversal and manipulation, event handling, animation, and Ajax much simpler with an easy-to-use API that works across a multitude of browsers. With a combination of versatility and extensibility, jQuery has changed the way that millions of people write JavaScript.\n",
    "\n",
    "## VS\n",
    "<img src=\"pics/vue.png\"/>\n",
    "\n",
    "## How Vue Works\n"
   ]
  },
  {
   "cell_type": "code",
   "execution_count": null,
   "metadata": {},
   "outputs": [],
   "source": [
    "<script src=\"https://cdn.jsdelivr.net/npm/vue\"></script>"
   ]
  },
  {
   "cell_type": "markdown",
   "metadata": {},
   "source": [
    "## JS File"
   ]
  },
  {
   "cell_type": "code",
   "execution_count": null,
   "metadata": {},
   "outputs": [],
   "source": [
    "<script src=\"index.js\"></script>"
   ]
  },
  {
   "cell_type": "markdown",
   "metadata": {},
   "source": [
    "## bind data to text "
   ]
  },
  {
   "cell_type": "code",
   "execution_count": null,
   "metadata": {},
   "outputs": [],
   "source": [
    "<!DOCTYPE html>\n",
    "<html lang=\"en\" dir=\"ltr\">\n",
    "\n",
    "<head>\n",
    "  <meta charset=\"utf-8\">\n",
    "  <title>Vue</title>\n",
    "  <link rel=\"stylesheet\" href=\"https://cdnjs.cloudflare.com/ajax/libs/bulma/0.7.2/css/bulma.min.css\">\n",
    "  <script defer src=\"https://use.fontawesome.com/releases/v5.3.1/js/all.js\"></script>\n",
    "  <script src=\"https://cdn.jsdelivr.net/npm/vue\"></script>\n",
    "</head>\n",
    "\n",
    "<body>\n",
    "  <a href=\"#\" id=\"app\" class=\"button is-danger\"> {{ message }} </a>\n",
    "  <script src=\"index.js\"></script>\n",
    "</body>\n",
    "\n",
    "</html>\n"
   ]
  },
  {
   "cell_type": "markdown",
   "metadata": {},
   "source": [
    "## index.js "
   ]
  },
  {
   "cell_type": "code",
   "execution_count": null,
   "metadata": {},
   "outputs": [],
   "source": [
    "var app = new Vue({\n",
    "    el : \"#app\",\n",
    "    data: {\n",
    "      message: \"click\",\n",
    "    }\n",
    "})\n"
   ]
  },
  {
   "cell_type": "markdown",
   "metadata": {},
   "source": [
    "## bind data to attributes\n",
    "\n",
    " The v-bind attribute you are seeing is called a directive. Directives are prefixed with v- to indicate that they are special attributes provided by Vue, and as you may have guessed, they apply special reactive behavior to the rendered DOM."
   ]
  },
  {
   "cell_type": "code",
   "execution_count": null,
   "metadata": {},
   "outputs": [],
   "source": [
    "<a v-bind:href=\"address\" id=\"app\" class=\"button is-danger\"> {{ message }} </a>"
   ]
  },
  {
   "cell_type": "code",
   "execution_count": null,
   "metadata": {},
   "outputs": [],
   "source": [
    "var app = new Vue({\n",
    "    el : \"#app\",\n",
    "    data: {\n",
    "      message: \"click\",\n",
    "      address: new Date().toLocaleString(),\n",
    "    }\n",
    "})\n"
   ]
  },
  {
   "cell_type": "markdown",
   "metadata": {},
   "source": [
    "## Conditionals/bind data to the structure of the DOM"
   ]
  },
  {
   "cell_type": "code",
   "execution_count": null,
   "metadata": {},
   "outputs": [],
   "source": [
    "<a v-if=\"condition\" v-bind:href=\"address\" id=\"app\" class=\"button is-danger\"> {{ message }} </a>"
   ]
  },
  {
   "cell_type": "code",
   "execution_count": null,
   "metadata": {},
   "outputs": [],
   "source": [
    "var app = new Vue({\n",
    "    el : \"#app\",\n",
    "    data: {\n",
    "      message: \"click\",\n",
    "      address: new Date().toLocaleString(),\n",
    "      condition: false,\n",
    "    }\n",
    "})"
   ]
  },
  {
   "cell_type": "markdown",
   "metadata": {},
   "source": [
    "## Loops"
   ]
  },
  {
   "cell_type": "code",
   "execution_count": null,
   "metadata": {},
   "outputs": [],
   "source": [
    "<div id=\"app\" class=\"content\">\n",
    "  <ol type=\"1\">\n",
    "    <li v-for=\"item in list\">\n",
    "      {{ item.text}}\n",
    "    </li>\n",
    "  </ol>\n",
    "</div>"
   ]
  },
  {
   "cell_type": "code",
   "execution_count": null,
   "metadata": {},
   "outputs": [],
   "source": [
    "var app = new Vue({\n",
    "    el : \"#app\",\n",
    "    data: {\n",
    "      list:[\n",
    "        {text: \"bread\"},\n",
    "        {text: \"milk\"},\n",
    "        {text: \"egg\"},\n",
    "        {text: \"beer\"},\n",
    "      ]\n",
    "    }\n",
    "})"
   ]
  },
  {
   "cell_type": "markdown",
   "metadata": {},
   "source": [
    "<img src=\"pics/Screenshot from 2019-01-04 08-50-14.png\"/>"
   ]
  },
  {
   "cell_type": "markdown",
   "metadata": {},
   "source": [
    "## events/methods\n",
    "\n",
    "To let users interact with your app, we can use the v-on directive to attach event listeners that invoke methods on our Vue instances:"
   ]
  },
  {
   "cell_type": "code",
   "execution_count": null,
   "metadata": {},
   "outputs": [],
   "source": [
    "<p id=\"app\" v-on:click=\"clicked\" class=\"button is-warning\"> {{ buttonContent }} </p>"
   ]
  },
  {
   "cell_type": "code",
   "execution_count": null,
   "metadata": {},
   "outputs": [],
   "source": [
    "var app5 = new Vue({\n",
    "  el: '#app',\n",
    "  data: {\n",
    "    buttonContent: 'submit'\n",
    "  },\n",
    "  methods: {\n",
    "    clicked: function () {\n",
    "      if (this.buttonContent == \"done!\"){\n",
    "        this.buttonContent = \"submit\"\n",
    "      }else{\n",
    "        this.buttonContent=\"done!\"\n",
    "      }\n",
    "    }\n",
    "  }\n",
    "})\n"
   ]
  },
  {
   "cell_type": "markdown",
   "metadata": {},
   "source": [
    "   <tr>\n",
    "    <td><img src=\"pics/Screenshot from 2019-01-04 09-07-53.png\" /> </td>\n",
    "    <td> <img src=\"pics/Screenshot from 2019-01-04 09-08-25.png\" /> </td>\n",
    "  </tr>"
   ]
  },
  {
   "cell_type": "code",
   "execution_count": null,
   "metadata": {},
   "outputs": [],
   "source": [
    "<p id=\"app\" v-on:click=\"clicked\" class=\"button is-warning\"> {{ buttonContent }} </p>"
   ]
  },
  {
   "cell_type": "code",
   "execution_count": null,
   "metadata": {},
   "outputs": [],
   "source": [
    "var app = new Vue({\n",
    "  el: '#app',\n",
    "  data: {\n",
    "    buttonContent: 0,\n",
    "  },\n",
    "  methods: {\n",
    "    clicked: function () {\n",
    "      this.buttonContent+=1\n",
    "    }\n",
    "  }\n",
    "})"
   ]
  },
  {
   "cell_type": "markdown",
   "metadata": {},
   "source": [
    "<img src=\"pics/Screenshot from 2019-01-04 10-44-51.png\"/>"
   ]
  },
  {
   "cell_type": "code",
   "execution_count": null,
   "metadata": {},
   "outputs": [],
   "source": [
    "  <div id=\"app\">\n",
    "    <p v-on:click=\"clicked(2)\" class=\"button is-warning\"> pluse2</p>\n",
    "    <p v-on:click=\"clicked(1)\" class=\"button is-info\"> pluse1</p>\n",
    "    <p class=\"tag is-danger\">{{ buttonContent }}</p>\n",
    "  </div>"
   ]
  },
  {
   "cell_type": "code",
   "execution_count": null,
   "metadata": {},
   "outputs": [],
   "source": [
    "var app = new Vue({\n",
    "  el: '#app',\n",
    "  data: {\n",
    "    buttonContent: 0,\n",
    "  },\n",
    "  methods: {\n",
    "    clicked: function (pluse) {\n",
    "      this.buttonContent+=pluse\n",
    "    }\n",
    "  }\n",
    "})"
   ]
  },
  {
   "cell_type": "markdown",
   "metadata": {},
   "source": [
    "<img src=\"pics/Screenshot from 2019-01-04 10-51-52.png\"/>"
   ]
  },
  {
   "cell_type": "markdown",
   "metadata": {},
   "source": [
    "## Class and Style Bindings\n",
    "\n",
    "A common need for data binding is manipulating an element’s class list and its inline styles. Since they are both attributes, we can use v-bind to handle them: we only need to calculate a final string with our expressions. However, meddling with string concatenation is annoying and error-prone. For this reason, Vue provides special enhancements when v-bind is used with class and style. In addition to strings, the expressions can also evaluate to objects or arrays."
   ]
  },
  {
   "cell_type": "code",
   "execution_count": null,
   "metadata": {},
   "outputs": [],
   "source": [
    "<p id=\"app\" v-on:click=\"clicked\" class=\"button\" v-bind:class=\"{'is-primary':primary, 'is-info': info}\"> {{ buttonContent }} </p>"
   ]
  },
  {
   "cell_type": "code",
   "execution_count": null,
   "metadata": {},
   "outputs": [],
   "source": [
    "var app = new Vue({\n",
    "  el: '#app',\n",
    "  data: {\n",
    "    buttonContent: 'submit',\n",
    "    primary: true,\n",
    "    info: false,\n",
    "  },\n",
    "  methods: {\n",
    "    clicked: function () {\n",
    "      if (this.primary){\n",
    "        this.primary = false\n",
    "        this.info = true\n",
    "      }else{\n",
    "        this.primary = true\n",
    "        this.info = false\n",
    "      }\n",
    "    }\n",
    "  }\n",
    "})\n"
   ]
  },
  {
   "cell_type": "markdown",
   "metadata": {},
   "source": [
    "\n",
    "\n",
    "  <tr>\n",
    "    <td><img src=\"pics/Screenshot from 2019-01-04 10-21-24.png\"/></td>\n",
    "    <td><img src=\"pics/Screenshot from 2019-01-04 10-23-24.png\"/></td>\n",
    "  </tr>"
   ]
  },
  {
   "cell_type": "markdown",
   "metadata": {},
   "source": [
    "## Form Input Bindings\n",
    "\n",
    "You can use the v-model directive to create two-way data bindings on form input, textarea, and select elements. It automatically picks the correct way to update the element based on the input type. Although a bit magical, v-model is essentially syntax sugar for updating data on user input events, plus special care for some edge cases."
   ]
  },
  {
   "cell_type": "code",
   "execution_count": null,
   "metadata": {},
   "outputs": [],
   "source": [
    "  <div id=\"app\" class=\"field\">\n",
    "    <div class=\"controle\">\n",
    "      <input v-model=\"checked\" type=\"checkbox\" id=\"check\" value=\"true\">\n",
    "    </div>\n",
    "    <label for=\"check\">{{checked}}</label>\n",
    "  </div>"
   ]
  },
  {
   "cell_type": "code",
   "execution_count": null,
   "metadata": {},
   "outputs": [],
   "source": [
    "var app = new Vue({\n",
    "  el: '#app',\n",
    "  data: {\n",
    "    checked: false,\n",
    "  },\n",
    "})"
   ]
  },
  {
   "cell_type": "code",
   "execution_count": null,
   "metadata": {},
   "outputs": [],
   "source": [
    "  <div id=\"app\" class=\"field\">\n",
    "    <div class=\"controle\">\n",
    "      <input v-model=\"userInput\" type=\"text\" placeholder=\"Enter a number!\" class=\"input\" v-bind:class='{\"is-success\":success, \"is-danger\":danger, \"is-info\": info,}'>\n",
    "      <p v-on:click=\"check(userInput)\" class=\"button is-primary\">Check</p>\n",
    "    </div>\n",
    "    <label class=\"label\">Number is:{{ userInput }}</label>\n",
    "  </div>"
   ]
  },
  {
   "cell_type": "code",
   "execution_count": null,
   "metadata": {},
   "outputs": [],
   "source": [
    "var app = new Vue({\n",
    "  el: '#app',\n",
    "  data: {\n",
    "    success: false,\n",
    "    danger: false,\n",
    "    info: true,\n",
    "    userInput:0,\n",
    "  },\n",
    "  methods:{\n",
    "    check: function(number){\n",
    "      if(Number.isInteger(number)){\n",
    "        this.info = false\n",
    "        this.danger = false\n",
    "        this.success = true\n",
    "      }else{\n",
    "        this.info = false\n",
    "        this.danger = true\n",
    "        this.success = false\n",
    "      }\n",
    "    }\n",
    "  }\n",
    "})"
   ]
  },
  {
   "cell_type": "markdown",
   "metadata": {},
   "source": [
    "## Watchers\n",
    "\n",
    "While computed properties are more appropriate in most cases, there are times when a custom watcher is necessary. That’s why Vue provides a more generic way to react to data changes through the watch option. This is most useful when you want to perform asynchronous or expensive operations in response to changing data. exactly like above example."
   ]
  },
  {
   "cell_type": "code",
   "execution_count": null,
   "metadata": {},
   "outputs": [],
   "source": [
    "  <div id=\"app\" class=\"field\">\n",
    "    <div class=\"controle\">\n",
    "      <input v-model=\"userInput\" type=\"text\" placeholder=\"Enter a number!\" class=\"input\" v-bind:class='{\"is-success\":success, \"is-danger\":danger, \"is-info\": info,}'>\n",
    "    </div>\n",
    "    <label class=\"label\">Number is:{{ userInput }}</label>\n",
    "  </div>"
   ]
  },
  {
   "cell_type": "code",
   "execution_count": null,
   "metadata": {},
   "outputs": [],
   "source": [
    "var app = new Vue({\n",
    "  el: '#app',\n",
    "  data: {\n",
    "    success: false,\n",
    "    danger: false,\n",
    "    info: true,\n",
    "    userInput: 0,\n",
    "  },\n",
    "  watch: {\n",
    "    userInput: function(n, o) {\n",
    "      if (Number.isInteger(Number(n))) {\n",
    "        this.info = false\n",
    "        this.danger = false\n",
    "        this.success = true\n",
    "      } else {\n",
    "        this.info = false\n",
    "        this.danger = true\n",
    "        this.success = false\n",
    "      }\n",
    "    }\n",
    "  },\n",
    "})\n"
   ]
  },
  {
   "cell_type": "markdown",
   "metadata": {},
   "source": [
    "<img src=\"pics/Screenshot from 2019-01-04 18-55-33.png\"/>"
   ]
  },
  {
   "cell_type": "markdown",
   "metadata": {},
   "source": [
    "## Computed Properties\n",
    "\n",
    "for any complex logic, you should use a computed property. like methods?!?!?!?\n",
    "Instead of a computed property, we can define the same function as a method instead. For the end result, the two approaches are indeed exactly the same. However, the difference is that computed properties are cached based on their dependencies. A computed property will only re-evaluate when some of its dependencies have changed. "
   ]
  },
  {
   "cell_type": "code",
   "execution_count": null,
   "metadata": {},
   "outputs": [],
   "source": [
    "  <div id=\"app\" class=\"field\">\n",
    "    <p class=\"tag is-black\"> {{ computedDate }}</p>\n",
    "    <p class=\"tag is-warning\"> {{ methodsDate() }}</p>\n",
    "  </div>"
   ]
  },
  {
   "cell_type": "code",
   "execution_count": null,
   "metadata": {},
   "outputs": [],
   "source": [
    "var app = new Vue({\n",
    "  el: '#app',\n",
    "  computed:{\n",
    "    computedDate: function(){\n",
    "      dateComputed = new Date().toLocaleString()\n",
    "      return dateComputed\n",
    "    }\n",
    "  },\n",
    "  methods:{\n",
    "    methodsDate: function(){\n",
    "      dateMethods = new Date().toLocaleString()\n",
    "      return dateMethods\n",
    "    }\n",
    "  }\n",
    "})"
   ]
  },
  {
   "cell_type": "markdown",
   "metadata": {},
   "source": [
    "<img src=\"pics/Screenshot from 2019-01-04 18-15-39.png\" />"
   ]
  }
 ],
 "metadata": {
  "kernelspec": {
   "display_name": "Python 3",
   "language": "python",
   "name": "python3"
  },
  "language_info": {
   "codemirror_mode": {
    "name": "ipython",
    "version": 3
   },
   "file_extension": ".py",
   "mimetype": "text/x-python",
   "name": "python",
   "nbconvert_exporter": "python",
   "pygments_lexer": "ipython3",
   "version": "3.5.3"
  }
 },
 "nbformat": 4,
 "nbformat_minor": 2
}
