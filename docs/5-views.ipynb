{
 "cells": [
  {
   "cell_type": "markdown",
   "metadata": {},
   "source": [
    "# Pedram ShahSafi\n",
    "\n",
    "# pd.shahsafi@gmail.com\n",
    "\n",
    "<img src=\"pics/1.jpg\" />\n",
    "\n",
    "## Blueprints and Views\n",
    "\n",
    "A view function is the code you write to respond to requests to your application. Flask uses patterns to match the incoming request URL to the view that should handle it. The view returns data that Flask turns into an outgoing response. Flask can also go the other direction and generate a URL to a view based on its name and arguments.\n",
    "\n",
    "## Create a Blueprint\n",
    "\n",
    "A Blueprint is a way to organize a group of related views and other code. Rather than registering views and other code directly with an application, they are registered with a blueprint. Then the blueprint is registered with the application when it is available in the factory function.\n",
    "\n",
    "Flaskr will have two blueprints, one for authentication functions and one for the blog posts functions. The code for each blueprint will go in a separate module. Since the blog needs to know about authentication, you’ll write the authentication one first.\n",
    "\n",
    "\n",
    "#### flaskr/auth.py"
   ]
  },
  {
   "cell_type": "code",
   "execution_count": null,
   "metadata": {},
   "outputs": [],
   "source": [
    "import functools\n",
    "\n",
    "from flask import (\n",
    "    Blueprint, flash, g, redirect, render_template, request, session, url_for\n",
    ")\n",
    "\n",
    "from werkzeug.security import check_password_hash, generate_password_hash\n",
    "\n",
    "from flaskr.db import get_db\n",
    "\n",
    "bp = Blueprint('auth', __name__, url_prefix='/auth')"
   ]
  },
  {
   "cell_type": "markdown",
   "metadata": {},
   "source": [
    "This creates a Blueprint named 'auth'. Like the application object, the blueprint needs to know where it’s defined, so __name__ is passed as the second argument. The url_prefix will be prepended to all the URLs associated with the blueprint.\n",
    "\n",
    "### app.register_blueprint()\n",
    "\n",
    "Import and register the blueprint from the factory using app.register_blueprint(). Place the new code at the end of the factory function before returning the app.\n",
    "\n",
    "flaskr/__init__.py"
   ]
  },
  {
   "cell_type": "code",
   "execution_count": null,
   "metadata": {},
   "outputs": [],
   "source": [
    "def create_app():\n",
    "    app = ...\n",
    "    # existing code omitted\n",
    "\n",
    "    from . import auth\n",
    "    app.register_blueprint(auth.bp)\n",
    "\n",
    "    return app"
   ]
  },
  {
   "cell_type": "markdown",
   "metadata": {},
   "source": [
    "The authentication blueprint will have views to register new users and to log in and log out.\n",
    "\n",
    "The First View: Register\n",
    "When the user visits the /auth/register URL, the register view will return HTML with a form for them to fill out. When they submit the form, it will validate their input and either show the form again with an error message or create the new user and go to the login page.\n",
    "\n",
    "For now you will just write the view code. On the next page, you’ll write templates to generate the HTML form.\n",
    "\n",
    "#### flaskr/auth.py"
   ]
  },
  {
   "cell_type": "code",
   "execution_count": null,
   "metadata": {},
   "outputs": [],
   "source": [
    "@bp.route('/register', methods=('GET', 'POST'))\n",
    "def register():\n",
    "    if request.method == 'POST':\n",
    "        username = request.form['username']\n",
    "        password = request.form['password']\n",
    "        db = get_db()\n",
    "        error = None\n",
    "\n",
    "        if not username:\n",
    "            error = 'Username is required.'\n",
    "        elif not password:\n",
    "            error = 'Password is required.'\n",
    "        elif db.execute(\n",
    "            'SELECT id FROM user WHERE username = ?', (username,)\n",
    "        ).fetchone() is not None:\n",
    "            error = 'User {} is already registered.'.format(username)\n",
    "\n",
    "        if error is None:\n",
    "            db.execute(\n",
    "                'INSERT INTO user (username, password) VALUES (?, ?)',\n",
    "                (username, generate_password_hash(password))\n",
    "            )\n",
    "            db.commit()\n",
    "            return redirect(url_for('auth.login'))\n",
    "\n",
    "        flash(error)\n",
    "\n",
    "    return render_template('auth/register.html')"
   ]
  },
  {
   "cell_type": "markdown",
   "metadata": {},
   "source": [
    "Here’s what the register view function is doing:\n",
    "\n",
    "1. @bp.route associates the URL /register with the register view function. When Flask receives a request to /auth/register, it will call the register view and use the return value as the response.\n",
    "\n",
    "2. If the user submitted the form, request.method will be 'POST'. In this case, start validating the input.\n",
    "\n",
    "3. request.form is a special type of dict mapping submitted form keys and values. The user will input their username and password.\n",
    "\n",
    "4. Validate that username and password are not empty.\n",
    "\n",
    "5. Validate that username is not already registered by querying the database and checking if a result is returned. db.execute takes a SQL query with ? placeholders for any user input, and a tuple of values to replace the placeholders with. The database library will take care of escaping the values so you are not vulnerable to a SQL injection attack.\n",
    "\n",
    "6. fetchone() returns one row from the query. If the query returned no results, it returns None. Later, fetchall() is used, which returns a list of all results.\n",
    "\n",
    "7. If validation succeeds, insert the new user data into the database. For security, passwords should never be stored in the database directly. Instead, generate_password_hash() is used to securely hash the password, and that hash is stored. Since this query modifies data, db.commit() needs to be called afterwards to save the changes.\n",
    "\n",
    "8. After storing the user, they are redirected to the login page. url_for() generates the URL for the login view based on its name. This is preferable to writing the URL directly as it allows you to change the URL later without changing all code that links to it. redirect() generates a redirect response to the generated URL.\n",
    "\n",
    "9. If validation fails, the error is shown to the user. flash() stores messages that can be retrieved when rendering the template.\n",
    "\n",
    "10. When the user initially navigates to auth/register, or there was an validation error, an HTML page with the registration form should be shown. render_template() will render a template containing the HTML, which you’ll write in the next step of the tutorial.\n",
    "\n",
    "### Login\n",
    "\n",
    "This view follows the same pattern as the register view above.\n",
    "\n",
    "#### flaskr/auth.py"
   ]
  },
  {
   "cell_type": "code",
   "execution_count": null,
   "metadata": {},
   "outputs": [],
   "source": [
    "@bp.route('/login', methods=('GET', 'POST'))\n",
    "def login():\n",
    "    if request.method == 'POST':\n",
    "        username = request.form['username']\n",
    "        password = request.form['password']\n",
    "        db = get_db()\n",
    "        error = None\n",
    "        user = db.execute(\n",
    "            'SELECT * FROM user WHERE username = ?', (username,)\n",
    "        ).fetchone()\n",
    "\n",
    "        if user is None:\n",
    "            error = 'Incorrect username.'\n",
    "        elif not check_password_hash(user['password'], password):\n",
    "            error = 'Incorrect password.'\n",
    "\n",
    "        if error is None:\n",
    "            session.clear()\n",
    "            session['user_id'] = user['id']\n",
    "            return redirect(url_for('index'))\n",
    "\n",
    "        flash(error)\n",
    "\n",
    "    return render_template('auth/login.html')"
   ]
  },
  {
   "cell_type": "markdown",
   "metadata": {},
   "source": [
    "There are a few differences from the register view:\n",
    "\n",
    "1. The user is queried first and stored in a variable for later use.\n",
    "2. check_password_hash() hashes the submitted password in the same way as the stored hash and securely compares them. If they match, the password is valid.\n",
    "3. session is a dict that stores data across requests. When validation succeeds, the user’s id is stored in a new session. The data is stored in a cookie that is sent to the browser, and the browser then sends it back with subsequent requests. Flask securely signs the data so that it can’t be tampered with.\n",
    "4. Now that the user’s id is stored in the session, it will be available on subsequent requests. At the beginning of each request, if a user is logged in their information should be loaded and made available to other views.\n",
    "\n",
    "### flaskr/auth.py"
   ]
  },
  {
   "cell_type": "code",
   "execution_count": null,
   "metadata": {},
   "outputs": [],
   "source": [
    "@bp.before_app_request\n",
    "def load_logged_in_user():\n",
    "    user_id = session.get('user_id')\n",
    "\n",
    "    if user_id is None:\n",
    "        g.user = None\n",
    "    else:\n",
    "        g.user = get_db().execute(\n",
    "            'SELECT * FROM user WHERE id = ?', (user_id,)\n",
    "        ).fetchone()"
   ]
  },
  {
   "cell_type": "markdown",
   "metadata": {},
   "source": [
    "bp.before_app_request() registers a function that runs before the view function, no matter what URL is requested. load_logged_in_user checks if a user id is stored in the session and gets that user’s data from the database, storing it on g.user, which <b> lasts for the length of the request </b>. If there is no user id, or if the id doesn’t exist, g.user will be None.\n",
    "\n",
    "### Logout\n",
    "To log out, you need to remove the user id from the session. Then load_logged_in_user won’t load a user on subsequent requests.\n",
    "\n",
    "#### flaskr/auth.py"
   ]
  },
  {
   "cell_type": "code",
   "execution_count": null,
   "metadata": {},
   "outputs": [],
   "source": [
    "@bp.route('/logout')\n",
    "def logout():\n",
    "    session.clear()\n",
    "    return redirect(url_for('index'))"
   ]
  },
  {
   "cell_type": "markdown",
   "metadata": {},
   "source": [
    "Require Authentication in Other Views\n",
    "Creating, editing, and deleting blog posts will require a user to be logged in. A decorator can be used to check this for each view it’s applied to.\n",
    "\n",
    "#### flaskr/auth.py"
   ]
  },
  {
   "cell_type": "code",
   "execution_count": null,
   "metadata": {},
   "outputs": [],
   "source": [
    "def login_required(view):\n",
    "    @functools.wraps(view)\n",
    "    def wrapped_view(**kwargs):\n",
    "        if g.user is None:\n",
    "            return redirect(url_for('auth.login'))\n",
    "\n",
    "        return view(**kwargs)\n",
    "\n",
    "    return wrapped_view"
   ]
  },
  {
   "cell_type": "markdown",
   "metadata": {},
   "source": [
    "This decorator returns a new view function that wraps the original view it’s applied to. The new function checks if a user is loaded and redirects to the login page otherwise. If a user is loaded the original view is called and continues normally. You’ll use this decorator when writing the blog views.\n"
   ]
  }
 ],
 "metadata": {
  "kernelspec": {
   "display_name": "Python 3",
   "language": "python",
   "name": "python3"
  },
  "language_info": {
   "codemirror_mode": {
    "name": "ipython",
    "version": 3
   },
   "file_extension": ".py",
   "mimetype": "text/x-python",
   "name": "python",
   "nbconvert_exporter": "python",
   "pygments_lexer": "ipython3",
   "version": "3.6.5"
  }
 },
 "nbformat": 4,
 "nbformat_minor": 2
}
