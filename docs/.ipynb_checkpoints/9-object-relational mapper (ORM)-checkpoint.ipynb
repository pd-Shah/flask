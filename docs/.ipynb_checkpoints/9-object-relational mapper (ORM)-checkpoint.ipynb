{
 "cells": [
  {
   "cell_type": "markdown",
   "metadata": {},
   "source": [
    "# Pedram ShahSafi\n",
    "\n",
    "# pd.shahsafi@gmail.com\n",
    "\n",
    "<img src=\"pics/1.jpg\" />\n",
    "\n",
    "# object-relational mapper (ORM)\n",
    "ORM stands for \"Object to Relational Mapping\" where\n",
    "\n",
    "The Object part is the one you use with your programming language ( python in this case )\n",
    "\n",
    "The Relational part is a Relational Database Manager System ( A database that is ) there are other types of databases but the most popular is relational ( you know tables, columns, pk fk etc eg Oracle MySQL, MS-SQL )\n",
    "\n",
    "And finally the Mapping part is where you do a bridge between your objects and your tables.\n",
    "\n",
    "# SQLAlchemy\n",
    "SQLAlchemy is most famous for its object-relational mapper (ORM), an optional component that provides the data mapper pattern, where classes can be mapped to the database in open ended, multiple ways - allowing the object model and database schema to develop in a cleanly decoupled way from the beginning.\n",
    "\n",
    "\n"
   ]
  },
  {
   "cell_type": "markdown",
   "metadata": {},
   "source": [
    "# Flask and SQLAlchemy without the Flask-SQLAlchemy Extension\n",
    "https://dev.to/nestedsoftware/flask-and-sqlalchemy-without-the-flask-sqlalchemy-extension-3cf8\n",
    "\n",
    "When using SQLAlchemy with Flask, the standard approach is to use the Flask-SQLAlchemy extension.\n",
    "\n",
    "However, this extension has some issues. In particular, we have to use a base class for our sqlalchemy models that creates a dependency on flask (via flask_sqlalchemy.SQLAlchemy.db.Model). Also, an application may not require the additional functionality that the extension provides, such as pagination support.\n",
    "\n",
    "Let's see if we can find a way to use plain SQLAlchemy in our Flask applications without relying on this extension.\n",
    "\n",
    "#### Below is the code that sets up the SQLAlchemy session (db.py):"
   ]
  },
  {
   "cell_type": "code",
   "execution_count": null,
   "metadata": {},
   "outputs": [],
   "source": [
    "import os\n",
    "\n",
    "from sqlalchemy import create_engine\n",
    "\n",
    "from sqlalchemy.orm import scoped_session\n",
    "from sqlalchemy.orm import sessionmaker\n",
    "\n",
    "engine = create_engine(os.environ['SQLALCHEMY_URL'])\n",
    "\n",
    "Session = scoped_session(sessionmaker(bind=engine))"
   ]
  },
  {
   "cell_type": "markdown",
   "metadata": {},
   "source": [
    "The key here is scoped_session: Now when we use Session, SQLAlchemy will check to see if a thread-local session exists. If it already exists, then it will use it, otherwise it will create one first.\n",
    "\n",
    "#### The following code bootstraps the Flask application (__init__.py):"
   ]
  },
  {
   "cell_type": "code",
   "execution_count": null,
   "metadata": {},
   "outputs": [],
   "source": [
    "from flask import Flask\n",
    "\n",
    "from .db import Session\n",
    "\n",
    "from .hello import hello_blueprint\n",
    "\n",
    "app = Flask(__name__)\n",
    "app.register_blueprint(hello_blueprint)\n",
    "\n",
    "@app.teardown_appcontext\n",
    "def cleanup(resp_or_exc):\n",
    "    Session.remove()"
   ]
  },
  {
   "cell_type": "markdown",
   "metadata": {},
   "source": [
    "The @app.teardown_appcontext decorator will cause the supplied callback, cleanup, to be executed when the current application context is torn down. This happens after each request. That way we make sure to release the resources used by a session after each request.\n",
    "\n",
    "In our Flask application, we can now use Session to interact with our database.\n",
    "#### For example (hello.py):"
   ]
  },
  {
   "cell_type": "code",
   "execution_count": null,
   "metadata": {},
   "outputs": [],
   "source": [
    "import json\n",
    "\n",
    "from flask import Blueprint\n",
    "\n",
    "from .db import Session\n",
    "\n",
    "from .models import Message\n",
    "\n",
    "hello_blueprint = Blueprint('hello', __name__)\n",
    "\n",
    "@hello_blueprint.route('/messages')\n",
    "def messages():\n",
    "    values = Session.query(Message).all()\n",
    "\n",
    "    results = [{ 'message': value.message } for value in values]\n",
    "\n",
    "    return (json.dumps(results), 200, { 'content_type': 'application/json' })"
   ]
  },
  {
   "cell_type": "markdown",
   "metadata": {},
   "source": [
    "If we just need session management without the other features that Flask-SQLAlchemy provides, such as pagination, signalling events (SQLAlchemy has its own anyway), driver hacks, SQLAlchemy configuration via Flask, and a few others, then this code should be sufficient for integrating SQLAlchemy into a Flask application.\n",
    "\n",
    "We also get the benefit of not having to create a dependency on Flask for our SQLAlchemy models. Below we're just using the standard sqlalchemy.ext.declarative.declarative_base <b>(models.py)</b>:"
   ]
  },
  {
   "cell_type": "code",
   "execution_count": null,
   "metadata": {},
   "outputs": [],
   "source": [
    "from sqlalchemy.ext.declarative import declarative_base\n",
    "\n",
    "from sqlalchemy import Column, Integer, String\n",
    "\n",
    "Base = declarative_base()\n",
    "\n",
    "class Message(Base):\n",
    "    __tablename__ = 'messages'\n",
    "    id = Column(Integer, primary_key=True)\n",
    "    message = Column(String)\n",
    "\n",
    "    def __repr__(self):\n",
    "        return \"<Message(message='%s')>\" % (self.message)"
   ]
  },
  {
   "cell_type": "markdown",
   "metadata": {},
   "source": [
    "# Flask-SQLAlchemy\n",
    "Flask-SQLAlchemy is an extension for Flask that adds support for SQLAlchemy to your application. It requires SQLAlchemy 0.8 or higher. It aims to simplify using SQLAlchemy with Flask by providing useful defaults and extra helpers that make it easier to accomplish common tasks.\n",
    "\n",
    "> http://flask-sqlalchemy.pocoo.org\n",
    "\n",
    "## Declaring Models\n",
    "\n",
    "> http://flask-sqlalchemy.pocoo.org/2.3/models/\n",
    "\n",
    "The <b>baseclass</b> for all your models is called <b>db.Model</b>. It’s stored on the SQLAlchemy instance you have to create.\n",
    "Some parts that are <b>required in SQLAlchemy are optional in Flask-SQLAlchemy</b>. \n",
    "For instance the <b>table name is automatically set</b> for you unless overridden. It’s derived from the class name converted to lowercase and with “CamelCase” converted to <b>“camel_case”</b>. To override the table name, set the __tablename__ class attribute.\n"
   ]
  },
  {
   "cell_type": "code",
   "execution_count": null,
   "metadata": {},
   "outputs": [],
   "source": [
    "class User(db.Model):\n",
    "    id = db.Column(db.Integer, primary_key=True)\n",
    "    username = db.Column(db.String(80), unique=True, nullable=False)\n",
    "    email = db.Column(db.String(120), unique=True, nullable=False)\n",
    "\n",
    "    def __repr__(self):\n",
    "        return '<User %r>' % self.username"
   ]
  },
  {
   "cell_type": "markdown",
   "metadata": {},
   "source": [
    "Use <b>Column</b> to define a column. The name of the column is the name you assign it to. If you want to use a different name in the table you can provide an optional first argument which is a string with the desired column name.\n",
    "\n",
    "Primary keys are marked with <b>primary_key=True</b>. Multiple keys can be marked as primary keys in which case they become a <b>compound primary key</b>.\n",
    "\n",
    "The <b>types of the column are the first argument to Column</b>. You can either provide them directly or call them to further specify them (like providing a length).\n",
    "\n",
    "\n",
    "1. Integer\tan integer\n",
    "2. String(size)\ta string with a maximum length (optional in some databases, e.g. PostgreSQL)\n",
    "3. Text\tsome longer unicode text\n",
    "4. DateTime\tdate and time expressed as Python datetime object.\n",
    "5. Float\tstores floating point values\n",
    "6. Boolean\tstores a boolean value\n",
    "7. PickleType\tstores a pickled Python object\n",
    "8. LargeBinary\tstores large arbitrary binary data\n",
    "\n",
    "## One-to-Many Relationships\n",
    "The most common relationships are one-to-many relationships.<b> Because relationships are declared before they are established you can use strings to refer to classes that are not created yet</b> (for instance if Person defines a relationship to Address which is declared later in the file).\n",
    "\n",
    "Relationships are expressed with the <b>relationship()</b> function. However the foreign key has to be separately declared with the ForeignKey class:"
   ]
  },
  {
   "cell_type": "code",
   "execution_count": null,
   "metadata": {},
   "outputs": [],
   "source": [
    "class Person(db.Model):\n",
    "    id = db.Column(db.Integer, primary_key=True)\n",
    "    name = db.Column(db.String(50), nullable=False)\n",
    "    addresses = db.relationship('Address', backref='person', lazy=True)\n",
    "\n",
    "class Address(db.Model):\n",
    "    id = db.Column(db.Integer, primary_key=True)\n",
    "    email = db.Column(db.String(120), nullable=False)\n",
    "    person_id = db.Column(db.Integer, db.ForeignKey('person.id'), nullable=False)"
   ]
  },
  {
   "cell_type": "markdown",
   "metadata": {},
   "source": [
    "### What does db.relationship() do? \n",
    "\n",
    "That function returns a new property that can do multiple things. In this case we told it to point to the Address class and load multiple of those. How does it know that this will return more than one address? Because SQLAlchemy guesses a useful default from your declaration. If you would want to have a <b> one-to-one relationship you can pass uselist=False to relationship() </b>.\n",
    "\n",
    "Since a person with no name or an email address with no address associated makes no sense, <b>nullable=False tells SQLAlchemy to create the column as NOT NULL </b>. This is implied for primary key columns, but it’s a good idea to specify it for all other columns to make it clear to other people working on your code that you did actually want a nullable column and did not just forget to add it.\n",
    "\n",
    "So what do <b>backref and lazy</b> mean? backref is a simple way to also declare a new property on the Address class. You can then also use my_address.person to get to the person at that address.\n",
    "\n",
    "lazy defines when SQLAlchemy will load the data from the database:\n",
    "\n",
    "1. 'select' / True (which is the default, but explicit is better than implicit) means that SQLAlchemy will load the data as necessary in one go using a standard select statement.\n",
    "\n",
    "2. 'joined' / False tells SQLAlchemy to load the relationship in the same query as the parent using a JOIN statement.\n",
    "\n",
    "3. 'subquery' works like 'joined' but instead SQLAlchemy will use a subquery.\n",
    "\n",
    "4. 'dynamic' is special and can be useful if you have many items and always want to apply additional SQL filters to them. Instead of loading the items SQLAlchemy will return another query object which you can further refine before loading the items. Note that this cannot be turned into a different loading strategy when querying so it’s often a good idea to avoid using this in favor of lazy=True. A query object equivalent to a dynamic user.addresses relationship can be created using Address.query.with_parent(user) while still being able to use lazy or eager loading on the relationship itself as necessary.\n",
    "\n",
    "### How do you define the lazy status for backrefs? By using the backref() function:"
   ]
  },
  {
   "cell_type": "code",
   "execution_count": null,
   "metadata": {},
   "outputs": [],
   "source": [
    "class User(db.Model):\n",
    "    id = db.Column(db.Integer, primary_key=True)\n",
    "    name = db.Column(db.String(50), nullable=False)\n",
    "    addresses = db.relationship('Address', lazy='select',\n",
    "        backref=db.backref('person', lazy='joined'))"
   ]
  },
  {
   "cell_type": "markdown",
   "metadata": {},
   "source": [
    "## Many-to-Many Relationships\n",
    "If you want to use many-to-many relationships you will need to define a helper table that is used for the relationship. For this helper table it is <b>strongly recommended to not use a model but an actual table</b>:"
   ]
  },
  {
   "cell_type": "code",
   "execution_count": null,
   "metadata": {},
   "outputs": [],
   "source": [
    "tags = db.Table('tags',\n",
    "    db.Column('tag_id', db.Integer, db.ForeignKey('tag.id'), primary_key=True),\n",
    "    db.Column('page_id', db.Integer, db.ForeignKey('page.id'), primary_key=True)\n",
    ")\n",
    "\n",
    "class Page(db.Model):\n",
    "    id = db.Column(db.Integer, primary_key=True)\n",
    "    tags = db.relationship('Tag', secondary=tags, lazy='subquery',\n",
    "        backref=db.backref('pages', lazy=True))\n",
    "\n",
    "class Tag(db.Model):\n",
    "    id = db.Column(db.Integer, primary_key=True)"
   ]
  },
  {
   "cell_type": "markdown",
   "metadata": {},
   "source": [
    "Here we configured Page.tags to be loaded immediately after loading a Page, but using a separate query. This always results in two queries when retrieving a Page, but when querying for multiple pages you will not get additional queries.\n",
    "\n",
    "The list of pages for a tag on the other hand is something that’s rarely needed. For example, you won’t need that list when retrieving the tags for a specific page. Therefore, the backref is set to be lazy-loaded so that accessing it for the first time will trigger a query to get the list of pages for that tag. If you need to apply further query options on that list, you could either switch to the 'dynamic' strategy - with the drawbacks mentioned above - or get a query object using Page.query.with_parent(some_tag) and then use it exactly as you would with the query object from a dynamic relationship.\n",
    "\n",
    "\n",
    "## Select, Insert, Delete\n",
    "\n",
    "### Inserting Records\n",
    "Before we can query something we will have to insert some data. All your models should have a constructor, so make sure to add one if you forgot. Constructors are only used by you, not by SQLAlchemy internally so it’s entirely up to you how you define them.\n",
    "\n",
    "### Inserting data into the database is a three step process:\n",
    "\n",
    "1. Create the Python object\n",
    "2. Add it to the session\n",
    "3. Commit the session\n",
    "\n",
    "The session here is not the Flask session, but the Flask-SQLAlchemy one. It is essentially a beefed up version of a database transaction. This is how it works:"
   ]
  },
  {
   "cell_type": "code",
   "execution_count": null,
   "metadata": {},
   "outputs": [],
   "source": [
    ">>> from yourapp import User\n",
    ">>> me = User('admin', 'admin@example.com')\n",
    ">>> db.session.add(me)\n",
    ">>> db.session.commit()"
   ]
  },
  {
   "cell_type": "markdown",
   "metadata": {},
   "source": [
    "Alright, that was not hard. What happens at what point? Before you add the object to the session, SQLAlchemy basically does not plan on adding it to the transaction. That is good because you can still discard the changes. For example think about creating the post at a page but you only want to pass the post to the template for preview rendering instead of storing it in the database.\n",
    "\n",
    "The <b> add() </b> function call then adds the object. It will issue an INSERT statement for the database but because the transaction is still not committed you won’t get an ID back immediately. If you do the commit, your user will have an ID:"
   ]
  },
  {
   "cell_type": "code",
   "execution_count": null,
   "metadata": {},
   "outputs": [],
   "source": [
    ">>> me.id\n",
    "1"
   ]
  },
  {
   "cell_type": "markdown",
   "metadata": {},
   "source": [
    "## Deleting Records\n",
    "Deleting records is very similar, instead of add() use delete():"
   ]
  },
  {
   "cell_type": "code",
   "execution_count": null,
   "metadata": {},
   "outputs": [],
   "source": [
    ">>> db.session.delete(me)\n",
    ">>> db.session.commit()"
   ]
  },
  {
   "cell_type": "markdown",
   "metadata": {},
   "source": [
    "## Querying Records\n",
    "So how do we get data back out of our database? For this purpose Flask-SQLAlchemy provides a query attribute on your Model class. When you access it you will get back a new query object over all records. You can then use methods like <b>filter()</b> to filter the records before you fire the select with <b>all() or first()</b>. If you want to go <b>by primary key</b> you can also use <b>get()</b>.\n",
    "\n",
    "The following queries assume following entries in the database:\n",
    "\n",
    "\n"
   ]
  },
  {
   "cell_type": "code",
   "execution_count": null,
   "metadata": {},
   "outputs": [],
   "source": [
    "id\tusername\temail\n",
    "1\tadmin\tadmin@example.com\n",
    "2\tpeter\tpeter@example.org\n",
    "3\tguest\tguest@example.com"
   ]
  },
  {
   "cell_type": "markdown",
   "metadata": {},
   "source": [
    "### Retrieve a user by username:"
   ]
  },
  {
   "cell_type": "code",
   "execution_count": null,
   "metadata": {},
   "outputs": [],
   "source": [
    ">>> peter = User.query.filter_by(username='peter').first()\n",
    ">>> peter.id\n",
    "2\n",
    ">>> peter.email\n",
    "u'peter@example.org'"
   ]
  },
  {
   "cell_type": "markdown",
   "metadata": {},
   "source": [
    "Same as above but for a non existing username gives None:"
   ]
  },
  {
   "cell_type": "code",
   "execution_count": null,
   "metadata": {},
   "outputs": [],
   "source": [
    ">>> missing = User.query.filter_by(username='missing').first()\n",
    ">>> missing is None\n",
    "True"
   ]
  },
  {
   "cell_type": "markdown",
   "metadata": {},
   "source": [
    "### Selecting a bunch of users by a more complex expression:"
   ]
  },
  {
   "cell_type": "code",
   "execution_count": null,
   "metadata": {},
   "outputs": [],
   "source": [
    ">>> User.query.filter(User.email.endswith('@example.com')).all()\n",
    "[<User u'admin'>, <User u'guest'>]"
   ]
  },
  {
   "cell_type": "markdown",
   "metadata": {},
   "source": [
    "### Ordering users by something:\n",
    "\n"
   ]
  },
  {
   "cell_type": "code",
   "execution_count": null,
   "metadata": {},
   "outputs": [],
   "source": [
    ">>> User.query.order_by(User.username).all()\n",
    "[<User u'admin'>, <User u'guest'>, <User u'peter'>]"
   ]
  },
  {
   "cell_type": "markdown",
   "metadata": {},
   "source": [
    "### Limiting users:"
   ]
  },
  {
   "cell_type": "code",
   "execution_count": null,
   "metadata": {},
   "outputs": [],
   "source": [
    ">>> User.query.limit(1).all()\n",
    "[<User u'admin'>]"
   ]
  },
  {
   "cell_type": "markdown",
   "metadata": {},
   "source": [
    "### Getting user by primary key:"
   ]
  },
  {
   "cell_type": "code",
   "execution_count": null,
   "metadata": {},
   "outputs": [],
   "source": [
    ">>> User.query.get(1)\n",
    "<User u'admin'>\n",
    "Queries in Views"
   ]
  },
  {
   "cell_type": "markdown",
   "metadata": {},
   "source": [
    "If you write a Flask view function it’s often very handy to return a <b>404 error for missing entries</b>.\n",
    "\n",
    "Because this is a very common idiom, Flask-SQLAlchemy provides a helper for this exact purpose. Instead of <b>get() one can use get_or_404()</b> and instead of <b>first() first_or_404()</b>. This will <b>raise 404 errors instead of returning None</b>:"
   ]
  },
  {
   "cell_type": "code",
   "execution_count": null,
   "metadata": {},
   "outputs": [],
   "source": [
    "@app.route('/user/<username>')\n",
    "def show_user(username):\n",
    "    user = User.query.filter_by(username=username).first_or_404()\n",
    "    return render_template('show_user.html', user=user)"
   ]
  },
  {
   "cell_type": "markdown",
   "metadata": {},
   "source": [
    "## My small web application"
   ]
  },
  {
   "cell_type": "markdown",
   "metadata": {},
   "source": [
    "we are going to study the ORM techniques of Flask-SQLAlchemy and build a small web application.\n",
    "\n",
    "> Step 1 − Install Flask-SQLAlchemy extension."
   ]
  },
  {
   "cell_type": "code",
   "execution_count": null,
   "metadata": {},
   "outputs": [],
   "source": [
    "pip install flask-sqlalchemy"
   ]
  },
  {
   "cell_type": "markdown",
   "metadata": {},
   "source": [
    "> Step 2 − You need to import SQLAlchemy class from this module."
   ]
  },
  {
   "cell_type": "code",
   "execution_count": null,
   "metadata": {},
   "outputs": [],
   "source": [
    "from flask_sqlalchemy import SQLAlchemy"
   ]
  },
  {
   "cell_type": "markdown",
   "metadata": {},
   "source": [
    "> Step 3 − Now create a Flask application object and set URI for the database to be used."
   ]
  },
  {
   "cell_type": "code",
   "execution_count": null,
   "metadata": {},
   "outputs": [],
   "source": [
    "app = Flask(__name__)\n",
    "app.config['SQLALCHEMY_DATABASE_URI'] = 'sqlite:///students.sqlite3'"
   ]
  },
  {
   "cell_type": "markdown",
   "metadata": {},
   "source": [
    "> Step 4 − Then create an object of SQLAlchemy class with application object as the parameter. This object contains helper functions for ORM operations. It also provides a parent Model class using which user defined models are declared. In the snippet below, a students model is created."
   ]
  },
  {
   "cell_type": "code",
   "execution_count": null,
   "metadata": {},
   "outputs": [],
   "source": [
    "db = SQLAlchemy(app)\n",
    "\n",
    "class students(db.Model):\n",
    "   id = db.Column('student_id', db.Integer, primary_key = True)\n",
    "   name = db.Column(db.String(100))\n",
    "   city = db.Column(db.String(50))  \n",
    "   addr = db.Column(db.String(200))\n",
    "   pin = db.Column(db.String(10))\n",
    "\n",
    "    def __init__(self, name, city, addr,pin):\n",
    "       self.name = name\n",
    "       self.city = city\n",
    "       self.addr = addr\n",
    "       self.pin = pin"
   ]
  },
  {
   "cell_type": "markdown",
   "metadata": {},
   "source": [
    "> Step 5 − To create / use database mentioned in URI, run the create_all() method."
   ]
  },
  {
   "cell_type": "code",
   "execution_count": null,
   "metadata": {},
   "outputs": [],
   "source": [
    "db.create_all()"
   ]
  },
  {
   "cell_type": "markdown",
   "metadata": {},
   "source": [
    "The following session methods perform CRUD operations −\n",
    "\n",
    "1. db.session.add(model object) − inserts a record into mapped table\n",
    "\n",
    "2. db.session.delete(model object) − deletes record from table\n",
    "\n",
    "3. model.query.all() − retrieves all records from table (corresponding to SELECT query).\n",
    "\n",
    "You can apply a filter to the retrieved record set by using the filter attribute. \n",
    "\n",
    "For instance, in order to retrieve records with <b>city = ’Hyderabad’ in students</b> table, use following statement −"
   ]
  },
  {
   "cell_type": "code",
   "execution_count": null,
   "metadata": {},
   "outputs": [],
   "source": [
    "Students.query.filter_by(city = ’Hyderabad’).all()"
   ]
  },
  {
   "cell_type": "markdown",
   "metadata": {},
   "source": [
    "With this much of background, now we shall provide view functions for our application to add a student data.\n",
    "\n",
    "The entry point of the application is show_all() function bound to ‘/’ URL. The Record set of students table is sent as parameter to the HTML template. The Server side code in the template renders the records in HTML table form."
   ]
  },
  {
   "cell_type": "code",
   "execution_count": null,
   "metadata": {},
   "outputs": [],
   "source": [
    "@app.route('/')\n",
    "def show_all():\n",
    "   return render_template('show_all.html', students = students.query.all() )"
   ]
  },
  {
   "cell_type": "markdown",
   "metadata": {},
   "source": [
    "The HTML script of the template <b>(‘show_all.html’)</b> is like this −"
   ]
  },
  {
   "cell_type": "code",
   "execution_count": null,
   "metadata": {},
   "outputs": [],
   "source": [
    "<!DOCTYPE html>\n",
    "<html lang = \"en\">\n",
    "   <head></head>\n",
    "   <body>\n",
    "      \n",
    "      <h3>\n",
    "         <a href = \"{{ url_for('show_all') }}\">Comments - Flask \n",
    "            SQLAlchemy example</a>\n",
    "      </h3>\n",
    "      \n",
    "      <hr/>\n",
    "      {%- for message in get_flashed_messages() %}\n",
    "         {{ message }}\n",
    "      {%- endfor %}\n",
    "\n",
    "      <h3>Students (<a href = \"{{ url_for('new') }}\">Add Student\n",
    "         </a>)</h3>\n",
    "      \n",
    "      <table>\n",
    "         <thead>\n",
    "            <tr>\n",
    "               <th>Name</th>\n",
    "               <th>City</th>\n",
    "               <th>Address</th>\n",
    "               <th>Pin</th>\n",
    "            </tr>\n",
    "         </thead>\n",
    "         \n",
    "         <tbody>\n",
    "            {% for student in students %}\n",
    "               <tr>\n",
    "                  <td>{{ student.name }}</td>\n",
    "                  <td>{{ student.city }}</td>\n",
    "                  <td>{{ student.addr }}</td>\n",
    "                  <td>{{ student.pin }}</td>\n",
    "               </tr>\n",
    "            {% endfor %}\n",
    "         </tbody>\n",
    "      </table>\n",
    "      \n",
    "   </body>\n",
    "</html>"
   ]
  },
  {
   "cell_type": "markdown",
   "metadata": {},
   "source": [
    "The above page contains a hyperlink to ‘/new’ URL mapping new() function. When clicked, it opens a Student Information form.\n",
    "\n",
    "The data is posted to the same URL in POST method.\n",
    "\n",
    "#### new.html"
   ]
  },
  {
   "cell_type": "code",
   "execution_count": null,
   "metadata": {},
   "outputs": [],
   "source": [
    "<!DOCTYPE html>\n",
    "<html>\n",
    "   <body>\n",
    "   \n",
    "      <h3>Students - Flask SQLAlchemy example</h3>\n",
    "      <hr/>\n",
    "      \n",
    "      {%- for category, message in get_flashed_messages(with_categories = true) %}\n",
    "         <div class = \"alert alert-danger\">\n",
    "            {{ message }}\n",
    "         </div>\n",
    "      {%- endfor %}\n",
    "      \n",
    "      <form action = \"{{ request.path }}\" method = \"post\">\n",
    "         <label for = \"name\">Name</label><br>\n",
    "         <input type = \"text\" name = \"name\" placeholder = \"Name\" /><br>\n",
    "         <label for = \"email\">City</label><br>\n",
    "         <input type = \"text\" name = \"city\" placeholder = \"city\" /><br>\n",
    "         <label for = \"addr\">addr</label><br>\n",
    "         <textarea name = \"addr\" placeholder = \"addr\"></textarea><br>\n",
    "         <label for = \"PIN\">City</label><br>\n",
    "         <input type = \"text\" name = \"pin\" placeholder = \"pin\" /><br>\n",
    "         <input type = \"submit\" value = \"Submit\" />\n",
    "      </form>\n",
    "      \n",
    "   </body>\n",
    "</html>"
   ]
  },
  {
   "cell_type": "markdown",
   "metadata": {},
   "source": [
    "When the http method is detected as POST, the form data is added in the students table and the application returns to homepage showing the added data."
   ]
  },
  {
   "cell_type": "code",
   "execution_count": null,
   "metadata": {},
   "outputs": [],
   "source": [
    "@app.route('/new', methods = ['GET', 'POST'])\n",
    "def new():\n",
    "   if request.method == 'POST':\n",
    "      if not request.form['name'] or not request.form['city'] or not request.form['addr']:\n",
    "         flash('Please enter all the fields', 'error')\n",
    "      else:\n",
    "         student = students(request.form['name'], request.form['city'],\n",
    "            request.form['addr'], request.form['pin'])\n",
    "         \n",
    "         db.session.add(student)\n",
    "         db.session.commit()\n",
    "         \n",
    "         flash('Record was successfully added')\n",
    "         return redirect(url_for('show_all'))\n",
    "   return render_template('new.html')"
   ]
  },
  {
   "cell_type": "markdown",
   "metadata": {},
   "source": [
    "Given below is the complete code of application <b>(app.py)</b>."
   ]
  },
  {
   "cell_type": "code",
   "execution_count": null,
   "metadata": {},
   "outputs": [],
   "source": [
    "from flask import Flask, request, flash, url_for, redirect, render_template\n",
    "from flask_sqlalchemy import SQLAlchemy\n",
    "\n",
    "app = Flask(__name__)\n",
    "app.config['SQLALCHEMY_DATABASE_URI'] = 'sqlite:///students.sqlite3'\n",
    "app.config['SECRET_KEY'] = \"random string\"\n",
    "\n",
    "db = SQLAlchemy(app)\n",
    "\n",
    "class students(db.Model):\n",
    "   id = db.Column('student_id', db.Integer, primary_key = True)\n",
    "   name = db.Column(db.String(100))\n",
    "   city = db.Column(db.String(50))\n",
    "   addr = db.Column(db.String(200)) \n",
    "   pin = db.Column(db.String(10))\n",
    "\n",
    "def __init__(self, name, city, addr,pin):\n",
    "   self.name = name\n",
    "   self.city = city\n",
    "   self.addr = addr\n",
    "   self.pin = pin\n",
    "\n",
    "@app.route('/')\n",
    "def show_all():\n",
    "   return render_template('show_all.html', students = students.query.all() )\n",
    "\n",
    "@app.route('/new', methods = ['GET', 'POST'])\n",
    "def new():\n",
    "   if request.method == 'POST':\n",
    "      if not request.form['name'] or not request.form['city'] or not request.form['addr']:\n",
    "         flash('Please enter all the fields', 'error')\n",
    "      else:\n",
    "         student = students(request.form['name'], request.form['city'],\n",
    "            request.form['addr'], request.form['pin'])\n",
    "         \n",
    "         db.session.add(student)\n",
    "         db.session.commit()\n",
    "         flash('Record was successfully added')\n",
    "         return redirect(url_for('show_all'))\n",
    "   return render_template('new.html')\n",
    "\n",
    "if __name__ == '__main__':\n",
    "   db.create_all()\n",
    "   app.run(debug = True)"
   ]
  }
 ],
 "metadata": {
  "kernelspec": {
   "display_name": "Python 3",
   "language": "python",
   "name": "python3"
  },
  "language_info": {
   "codemirror_mode": {
    "name": "ipython",
    "version": 3
   },
   "file_extension": ".py",
   "mimetype": "text/x-python",
   "name": "python",
   "nbconvert_exporter": "python",
   "pygments_lexer": "ipython3",
   "version": "3.6.5"
  }
 },
 "nbformat": 4,
 "nbformat_minor": 2
}
