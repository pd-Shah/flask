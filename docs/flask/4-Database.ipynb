{
 "cells": [
  {
   "cell_type": "markdown",
   "metadata": {},
   "source": [
    "# Pedram ShahSafi\n",
    "\n",
    "# pd.shahsafi@gmail.com\n",
    "\n",
    "<img src=\"pics/1.jpg\" />\n",
    "\n",
    "# Define and Access the Database\n",
    "\n",
    "The application will use a SQLite database to store users and posts. Python comes with built-in support for SQLite in the sqlite3 module.\n",
    "\n",
    "SQLite is convenient because it doesn’t require setting up a separate database server and is built-in to Python. However, if concurrent requests try to write to the database at the same time, they will slow down as each write happens sequentially. Small applications won’t notice this. Once you become big, you may want to switch to a different database.\n",
    "\n",
    "# Connect to the Database\n",
    "\n",
    "The first thing to do when working with a SQLite database (and most other Python database libraries) is to create a connection to it. Any queries and operations are performed using the connection, which is closed after the work is finished.\n",
    "\n",
    "In web applications this connection is typically tied to the request. It is created at some point when handling a request, and closed before the response is sent."
   ]
  },
  {
   "cell_type": "code",
   "execution_count": null,
   "metadata": {},
   "outputs": [],
   "source": [
    "(flaskEnv) pd@asghar:~/project/flaskr$ touch db.py"
   ]
  },
  {
   "cell_type": "markdown",
   "metadata": {},
   "source": [
    "# db.py"
   ]
  },
  {
   "cell_type": "code",
   "execution_count": null,
   "metadata": {},
   "outputs": [],
   "source": [
    "import sqlite3\n",
    "\n",
    "import click\n",
    "from flask import current_app, g\n",
    "from flask.cli import with_appcontext\n",
    "\n",
    "\n",
    "def get_db():\n",
    "    if 'db' not in g:\n",
    "        g.db = sqlite3.connect(\n",
    "            current_app.config['DATABASE'],\n",
    "            detect_types=sqlite3.PARSE_DECLTYPES\n",
    "        )\n",
    "        g.db.row_factory = sqlite3.Row\n",
    "\n",
    "    return g.db\n",
    "\n",
    "\n",
    "def close_db(e=None):\n",
    "    db = g.pop('db', None)\n",
    "\n",
    "    if db is not None:\n",
    "        db.close()"
   ]
  },
  {
   "cell_type": "markdown",
   "metadata": {},
   "source": [
    "## g \n",
    "1. g is a special object that is unique for each request.\n",
    "2. It is used to store data that might be accessed by multiple functions during the request.\n",
    "3. The connection is stored and reused instead of creating a new connection if get_db is called a second time in the same request.\n",
    "\n",
    "\n",
    "## current_app\n",
    "1. current_app is another special object that points to the Flask application handling the request.\n",
    "2. Since you used an application factory, there is no application object when writing the rest of your code. 3. get_db will be called when the application has been created and is handling a request, so current_app can be used.\n",
    "\n",
    "## sqlite3.connect()\n",
    "1. sqlite3.connect() establishes a connection to the file pointed at by the DATABASE configuration key.\n",
    "2. This file doesn’t have to exist yet, and won’t until you initialize the database later.\n",
    "4. sqlite3.PARSE_DECLTYPES This constant is meant to be used with the detect_types parameter of the connect() function. Setting it makes the sqlite3 module parse the declared type for each column it returns. It will parse out the first word of the declared type, i. e. for “integer primary key”, it will parse out “integer”, or for “number(10)” it will parse out “number”. Then for that column, it will look into the converters dictionary and use the converter function registered for that type there.\n",
    "\n",
    "## sqlite3.Row \n",
    "1. tells the connection to return rows that behave like dicts. This allows accessing the columns by name.\n",
    "\n",
    "## close_db \n",
    "1. close_db checks if a connection was created by checking if g.db was set.\n",
    "2. If the connection exists, it is closed.\n",
    "3. Further down you will tell your application about the close_db function in the application factory so that it is called after each request.\n",
    "\n",
    "## Click\n",
    "click is a Python package for creating beautiful command line interfaces in a composable way with as little code as necessary. It’s the “Command Line Interface Creation Kit”. It’s highly configurable but comes with sensible defaults out of the box."
   ]
  },
  {
   "cell_type": "code",
   "execution_count": null,
   "metadata": {},
   "outputs": [],
   "source": [
    "import click\n",
    "\n",
    "@click.command()\n",
    "\n",
    "@click.option(\n",
    "    '--count',\n",
    "    default=1,\n",
    "    help='Number of greetings.'\n",
    ")\n",
    "\n",
    "@click.option(\n",
    "    '--name',\n",
    "    prompt='Your name',\n",
    "    help='The person to greet.'\n",
    ")\n",
    "\n",
    "def hello(count, name):\n",
    "    \"\"\"Simple program that greets NAME for a total of COUNT times.\"\"\"\n",
    "    for x in range(count):\n",
    "        click.echo('Hello %s!' % name)\n",
    "\n",
    "if __name__ == '__main__':\n",
    "    hello()\n"
   ]
  },
  {
   "cell_type": "code",
   "execution_count": null,
   "metadata": {},
   "outputs": [],
   "source": [
    "$ python hello.py --count=3\n",
    "Your name: John\n",
    "Hello John!\n",
    "Hello John!\n",
    "Hello John!"
   ]
  },
  {
   "cell_type": "code",
   "execution_count": null,
   "metadata": {},
   "outputs": [],
   "source": [
    "$ python hello.py --help\n",
    "Usage: hello.py [OPTIONS]\n",
    "\n",
    "  Simple program that greets NAME for a total of COUNT times.\n",
    "\n",
    "Options:\n",
    "  --count INTEGER  Number of greetings.\n",
    "  --name TEXT      The person to greet.\n",
    "  --help           Show this message and exit."
   ]
  },
  {
   "cell_type": "markdown",
   "metadata": {},
   "source": [
    "# Create the Tables\n",
    "\n",
    "In SQLite, data is stored in tables and columns. These need to be created before you can store and retrieve data. Flaskr will store users in the user table, and posts in the post table. Create a file with the SQL commands needed to create empty tables:"
   ]
  },
  {
   "cell_type": "code",
   "execution_count": null,
   "metadata": {},
   "outputs": [],
   "source": [
    "(flaskEnv) pd@asghar:~/project/flaskr$ touch schema.sql"
   ]
  },
  {
   "cell_type": "markdown",
   "metadata": {},
   "source": [
    "\n",
    "## flaskr/schema.sql"
   ]
  },
  {
   "cell_type": "code",
   "execution_count": null,
   "metadata": {},
   "outputs": [],
   "source": [
    "DROP TABLE IF EXISTS user;\n",
    "DROP TABLE IF EXISTS post;\n",
    "\n",
    "CREATE TABLE user (\n",
    "  id INTEGER PRIMARY KEY AUTOINCREMENT,\n",
    "  username TEXT UNIQUE NOT NULL,\n",
    "  password TEXT NOT NULL\n",
    ");\n",
    "\n",
    "CREATE TABLE post (\n",
    "  id INTEGER PRIMARY KEY AUTOINCREMENT,\n",
    "  author_id INTEGER NOT NULL,\n",
    "  created TIMESTAMP NOT NULL DEFAULT CURRENT_TIMESTAMP,\n",
    "  title TEXT NOT NULL,\n",
    "  body TEXT NOT NULL,\n",
    "  FOREIGN KEY (author_id) REFERENCES user (id),\n",
    ");"
   ]
  },
  {
   "cell_type": "markdown",
   "metadata": {},
   "source": [
    "Add the Python functions that will run these SQL commands to the db.py file:\n",
    "\n",
    "## flaskr/db.py"
   ]
  },
  {
   "cell_type": "code",
   "execution_count": null,
   "metadata": {},
   "outputs": [],
   "source": [
    "def init_db():\n",
    "    db = get_db()\n",
    "\n",
    "    with current_app.open_resource('schema.sql') as f:\n",
    "        db.executescript(f.read().decode('utf8'))\n",
    "\n",
    "\n",
    "@click.command('init-db')\n",
    "@with_appcontext\n",
    "def init_db_command():\n",
    "    \"\"\"Clear the existing data and create new tables.\"\"\"\n",
    "    init_db()\n",
    "    click.echo('Initialized the database.')"
   ]
  },
  {
   "cell_type": "markdown",
   "metadata": {},
   "source": [
    "### open_resource()\n",
    "1. opens a file relative to the flaskr package,\n",
    "2. which is useful since you won’t necessarily know where that location is when deploying the application later.\n",
    "3. get_db returns a database connection, which is used to execute the commands read from the file.\n",
    "\n",
    "### click.command() \n",
    "1. defines a command line command called init-db that calls the init_db function and shows a success message to the user.\n"
   ]
  },
  {
   "cell_type": "markdown",
   "metadata": {},
   "source": [
    "#  Register with the Application\n",
    "\n",
    "The close_db and init_db_command functions need to be registered with the application instance, otherwise they won’t be used by the application. However, since you’re using a factory function, that instance isn’t available when writing the functions. Instead, write a function that takes an application and does the registration.\n",
    "\n",
    "### flaskr/db.py"
   ]
  },
  {
   "cell_type": "code",
   "execution_count": null,
   "metadata": {},
   "outputs": [],
   "source": [
    "def init_app(app):\n",
    "    app.teardown_appcontext(close_db)\n",
    "    app.cli.add_command(init_db_command)"
   ]
  },
  {
   "cell_type": "markdown",
   "metadata": {},
   "source": [
    "### app.teardown_appcontext()\n",
    "\n",
    "1. tells Flask to call that function when cleaning up after returning the response.\n",
    "\n",
    "### app.cli.add_command() \n",
    "1. adds a new command that can be called with the flask command.\n",
    "\n",
    "Import and call this function from the factory. Place the new code at the end of the factory function before returning the app.\n",
    "\n",
    "### flaskr/__init__.py"
   ]
  },
  {
   "cell_type": "code",
   "execution_count": null,
   "metadata": {},
   "outputs": [],
   "source": [
    "def create_app():\n",
    "    app = ...\n",
    "    # existing code omitted\n",
    "\n",
    "    from . import db\n",
    "    db.init_app(app)\n",
    "\n",
    "    return app"
   ]
  },
  {
   "cell_type": "markdown",
   "metadata": {},
   "source": [
    "# Initialize the Database File\n",
    "\n",
    "Now that init-db has been registered with the app, it can be called using the flask command."
   ]
  },
  {
   "cell_type": "code",
   "execution_count": null,
   "metadata": {},
   "outputs": [],
   "source": [
    "flask init-db\n",
    "Initialized the database."
   ]
  }
 ],
 "metadata": {
  "kernelspec": {
   "display_name": "Python 3",
   "language": "python",
   "name": "python3"
  },
  "language_info": {
   "codemirror_mode": {
    "name": "ipython",
    "version": 3
   },
   "file_extension": ".py",
   "mimetype": "text/x-python",
   "name": "python",
   "nbconvert_exporter": "python",
   "pygments_lexer": "ipython3",
   "version": "3.6.5"
  }
 },
 "nbformat": 4,
 "nbformat_minor": 2
}
