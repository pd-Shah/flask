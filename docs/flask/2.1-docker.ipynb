{
 "cells": [
  {
   "cell_type": "markdown",
   "metadata": {},
   "source": [
    "# Pedram ShahSafi\n",
    "\n",
    "# pd.shahsafi@gmail.com\n",
    "\n",
    "<img src=\"pics/1.jpg\" />\n",
    "\n",
    "\n",
    "## docker\n",
    "Docker is a container management service. The keywords of Docker are develop, ship and run anywhere. The whole idea of Docker is for developers to easily develop applications, ship them into containers which can then be deployed anywhere.\n",
    "<img src=\"pics/docker.png\" />\n",
    "\n",
    "### VM Machine\n",
    "Using VM Machine software, for example, Ubuntu can be installed inside a Windows. And they both would run at the same time. It is like building a PC, with its core components like CPU, RAM, Disks, Network Cards etc, within an operating system and assemble them to work as if it was a real PC. This way, the virtual PC becomes a \"guest\" inside an actual PC which with its operating system is called a host.\n",
    "\n",
    "### Container\n",
    "It's same as above but instead of using an entire operating system, it cut down the \"unnecessary\" components of the virtual OS to create a minimal version of it. This lead to the creation of LXC (Linux Containers).It's faster than VM Machines.\n",
    "\n",
    "### Docker: \n",
    "A docker container, unlike a virtual machine and container, does not require or include a separate operating system. Instead, it relies on the Linux kernel's functionality and uses resource isolation.\n",
    "Purpose of Docker: Its primary focus is to automate the deployment of applications inside software containers and the automation of operating system level virtualization on Linux. It's lightweight then Containers and boots-up in seconds. \n",
    "\n",
    "<img src=\"pics/docker.jpg\" />\n",
    "\n",
    "\n",
    "## Terms :\n",
    "\n",
    "### Docker Engine \n",
    "\"Docker engine\" is the part of Docker which creates and runs Docker containers.\n",
    "\n",
    "### Docker Hub\n",
    "SaaS service for sharing and managing application stacks. Docker Hub is a registry service on the cloud that allows you to download Docker images that are built by other communities. You can also upload your own Docker built images to Docker hub.\n",
    "\n",
    "### Docker Compose\n",
    "Docker Compose is a tool for defining and running multi-container Docker applications. It uses Yaml files to configure the application's services and performs the creation and start-up process of all the containers with a single command.\n",
    "\n",
    "Using Compose is basically a three-step process.\n",
    "\n",
    "1. Define your app's environment with a Dockerfile so it can be reproduced anywhere.\n",
    "\n",
    "2. Define the services that make up your app in docker-compose.yml so they can be run together in an isolated environment.\n",
    "\n",
    "3. Lastly, run docker-compose up and Compose will start and run your entire app.\n",
    "\n",
    "### Docker Image\n",
    "In Docker, everything is based on Images.\n",
    "\n",
    "### container\n",
    "A Container is a runtime instance of an image\n",
    "\n",
    "### Docker file\n",
    "The Dockerfile is essentially the build instructions to build the image.\n",
    "\n",
    "### Docker-compose.yml\n",
    "Config. Application’s services.\n",
    "\n",
    "# Get Docker CE for Ubuntu\n",
    "\n",
    "Uninstall old versions"
   ]
  },
  {
   "cell_type": "code",
   "execution_count": null,
   "metadata": {},
   "outputs": [],
   "source": [
    "sudo apt-get remove docker docker-engine docker.io"
   ]
  },
  {
   "cell_type": "markdown",
   "metadata": {},
   "source": [
    "### 403 Forbidden\n",
    "Since Docker is a US company, we must comply with us export control regulations. In an effort to comply with these, we now block all IP addresses that are located in Cuba, <b>Iran</b>, North Korea, Sudan, and Syria. If you are not in one of these countries and are blocked, please reach out to \n",
    "\n",
    "## Install Docker CE"
   ]
  },
  {
   "cell_type": "markdown",
   "metadata": {},
   "source": [
    "#### Update the apt package index:"
   ]
  },
  {
   "cell_type": "code",
   "execution_count": null,
   "metadata": {},
   "outputs": [],
   "source": [
    "sudo apt-get update"
   ]
  },
  {
   "cell_type": "markdown",
   "metadata": {},
   "source": [
    "Install packages to allow apt to use a repository over HTTPS:\n",
    "\n"
   ]
  },
  {
   "cell_type": "code",
   "execution_count": null,
   "metadata": {},
   "outputs": [],
   "source": [
    "sudo apt-get install \\\n",
    "    apt-transport-https \\\n",
    "    ca-certificates \\\n",
    "    curl \\\n",
    "    software-properties-common"
   ]
  },
  {
   "cell_type": "markdown",
   "metadata": {},
   "source": [
    "Add Docker’s official GPG key:"
   ]
  },
  {
   "cell_type": "code",
   "execution_count": null,
   "metadata": {},
   "outputs": [],
   "source": [
    "curl -fsSL https://download.docker.com/linux/ubuntu/gpg | sudo apt-key add -"
   ]
  },
  {
   "cell_type": "markdown",
   "metadata": {},
   "source": [
    "set up the stable repository"
   ]
  },
  {
   "cell_type": "code",
   "execution_count": null,
   "metadata": {},
   "outputs": [],
   "source": [
    "sudo add-apt-repository \\\n",
    "   \"deb [arch=amd64] https://download.docker.com/linux/ubuntu \\\n",
    "   $(lsb_release -cs) \\\n",
    "   stable\""
   ]
  },
  {
   "cell_type": "markdown",
   "metadata": {},
   "source": [
    "Install Docker CE"
   ]
  },
  {
   "cell_type": "code",
   "execution_count": null,
   "metadata": {},
   "outputs": [],
   "source": [
    "sudo apt-get update\n",
    "sudo apt-get install docker-ce\n",
    "sudo docker run hello-world"
   ]
  },
  {
   "cell_type": "markdown",
   "metadata": {},
   "source": [
    "### Cheat sheet"
   ]
  },
  {
   "cell_type": "code",
   "execution_count": null,
   "metadata": {},
   "outputs": [],
   "source": [
    "## List Docker CLI commands\n",
    "docker\n",
    "docker container --help\n",
    "\n",
    "## Display Docker version and info\n",
    "docker --version\n",
    "docker version\n",
    "docker info\n",
    "\n",
    "## Execute Docker image\n",
    "docker run hello-world\n",
    "\n",
    "## List Docker images\n",
    "docker image ls\n",
    "\n",
    "## List Docker containers (running, all, all in quiet mode)\n",
    "docker container ls\n",
    "docker container ls --all\n",
    "docker container ls -aq\n"
   ]
  },
  {
   "cell_type": "markdown",
   "metadata": {},
   "source": [
    "### Dockerfile\n",
    "\n",
    "Dockerfile defines what goes on in the environment inside your container. Access to resources like networking interfaces and disk drives is virtualized inside this environment, which is isolated from the rest of your system, so you need to map ports to the outside world, and be specific about what files you want to “copy in” to that environment. However, after doing that, you can expect that the build of your app defined in this Dockerfile behaves exactly the same wherever it runs.\n",
    "Dockerfile\n",
    "\n",
    "Create an empty directory. Change directories (cd) into the new directory, create a file called Dockerfile, copy-and-paste the following content into that file, and save it. Take note of the comments that explain each statement in your new Dockerfile."
   ]
  },
  {
   "cell_type": "code",
   "execution_count": null,
   "metadata": {},
   "outputs": [],
   "source": [
    "# Use an official Python runtime as a parent image\n",
    "# find more https://hub.docker.com/explore/\n",
    "FROM python:2.7-slim\n",
    "\n",
    "# Set the working directory to /app\n",
    "WORKDIR /app\n",
    "\n",
    "# Copy the current directory contents into the container at /app\n",
    "ADD . /app\n",
    "\n",
    "# Install any needed packages specified in requirements.txt\n",
    "RUN pip install --trusted-host pypi.python.org -r requirements.txt\n",
    "\n",
    "# Make port 80 available to the world outside this container\n",
    "EXPOSE 80\n",
    "\n",
    "# Define environment variable\n",
    "ENV NAME World\n",
    "\n",
    "# Run app.py when the container launches\n",
    "CMD [\"python\", \"app.py\"]"
   ]
  },
  {
   "cell_type": "markdown",
   "metadata": {},
   "source": [
    "### FROM\n",
    "> tells Docker what image to pull from the Docker hub repository.\n",
    "\n",
    "### COPY \n",
    "> will copy the app/ folder we created on our computer into the Docker container. A container is an actual running instance of a Docker image.\n",
    "\n",
    "Create two more files, requirements.txt and app.py, and put them in the same folder with the Dockerfile. This completes our app, which as you can see is quite simple. When the above Dockerfile is built into an image, app.py and requirements.txt is present because of that Dockerfile’s ADD command, and the output from app.py is accessible over HTTP thanks to the EXPOSE command.\n",
    "\n",
    "### requirements.txt"
   ]
  },
  {
   "cell_type": "code",
   "execution_count": null,
   "metadata": {},
   "outputs": [],
   "source": [
    "Flask\n",
    "Redis"
   ]
  },
  {
   "cell_type": "markdown",
   "metadata": {},
   "source": [
    "### app.py"
   ]
  },
  {
   "cell_type": "code",
   "execution_count": null,
   "metadata": {},
   "outputs": [],
   "source": [
    "from flask import Flask\n",
    "from redis import Redis, RedisError\n",
    "import os\n",
    "import socket\n",
    "\n",
    "# Connect to Redis\n",
    "redis = Redis(host=\"redis\", db=0, socket_connect_timeout=2, socket_timeout=2)\n",
    "\n",
    "app = Flask(__name__)\n",
    "\n",
    "@app.route(\"/\")\n",
    "def hello():\n",
    "    try:\n",
    "        visits = redis.incr(\"counter\")\n",
    "    except RedisError:\n",
    "        visits = \"<i>cannot connect to Redis, counter disabled</i>\"\n",
    "\n",
    "    html = \"<h3>Hello {name}!</h3>\" \\\n",
    "           \"<b>Hostname:</b> {hostname}<br/>\" \\\n",
    "           \"<b>Visits:</b> {visits}\"\n",
    "    return html.format(name=os.getenv(\"NAME\", \"world\"), hostname=socket.gethostname(), visits=visits)\n",
    "\n",
    "if __name__ == \"__main__\":\n",
    "    app.run(host='0.0.0.0', port=80)"
   ]
  },
  {
   "cell_type": "markdown",
   "metadata": {},
   "source": [
    "Now we see that <b> pip install -r requirements.txt </b> installs the Flask and Redis libraries for Python, and the app prints the environment variable NAME, as well as the output of a call to socket.gethostname(). Finally, because Redis isn’t running (as we’ve only installed the Python library, and not Redis itself), we should expect that the attempt to use it here fails and produces the error message.\n",
    "\n",
    "# build the app"
   ]
  },
  {
   "cell_type": "code",
   "execution_count": null,
   "metadata": {},
   "outputs": [],
   "source": [
    "$ docker build -t friendlyhello .\n",
    "$ docker image ls\n",
    "\n",
    "REPOSITORY            TAG                 IMAGE ID\n",
    "friendlyhello         latest              326387cea398"
   ]
  },
  {
   "cell_type": "markdown",
   "metadata": {},
   "source": [
    "# Run the app\n",
    "\n",
    "\n",
    "\n",
    "Run the app, mapping your machine’s port 4000 to the container’s published port 80 using -p:"
   ]
  },
  {
   "cell_type": "code",
   "execution_count": null,
   "metadata": {},
   "outputs": [],
   "source": [
    "docker run -p 4000:80 friendlyhello"
   ]
  },
  {
   "cell_type": "markdown",
   "metadata": {},
   "source": [
    "You should see a message that Python is serving your app at http://0.0.0.0:80. But that message is coming from inside the container, which doesn’t know you mapped port 80 of that container to 4000, making the correct URL http://localhost:4000.\n",
    "\n",
    "Go to that URL in a web browser to see the display content served up on a web page."
   ]
  },
  {
   "cell_type": "code",
   "execution_count": null,
   "metadata": {},
   "outputs": [],
   "source": [
    "docker build -t friendlyhello .  # Create image using this directory's Dockerfile\n",
    "docker run -p 4000:80 friendlyhello  # Run \"friendlyname\" mapping port 4000 to 80\n",
    "docker run -d -p 4000:80 friendlyhello         # Same thing, but in detached mode\n",
    "docker container ls                                # List all running containers\n",
    "docker container ls -a             # List all containers, even those not running\n",
    "docker container stop <hash>           # Gracefully stop the specified container\n",
    "docker container kill <hash>         # Force shutdown of the specified container\n",
    "docker container rm <hash>        # Remove specified container from this machine\n",
    "docker container rm $(docker container ls -a -q)         # Remove all containers\n",
    "docker image ls -a                             # List all images on this machine\n",
    "docker image rm <image id>            # Remove specified image from this machine\n",
    "docker image rm $(docker image ls -a -q)   # Remove all images from this machine\n",
    "docker login             # Log in this CLI session using your Docker credentials\n",
    "docker tag <image> username/repository:tag  # Tag <image> for upload to registry\n",
    "docker push username/repository:tag            # Upload tagged image to registry\n",
    "docker run username/repository:tag                   # Run image from a registry"
   ]
  }
 ],
 "metadata": {
  "kernelspec": {
   "display_name": "Python 3",
   "language": "python",
   "name": "python3"
  },
  "language_info": {
   "codemirror_mode": {
    "name": "ipython",
    "version": 3
   },
   "file_extension": ".py",
   "mimetype": "text/x-python",
   "name": "python",
   "nbconvert_exporter": "python",
   "pygments_lexer": "ipython3",
   "version": "3.6.5"
  }
 },
 "nbformat": 4,
 "nbformat_minor": 2
}
