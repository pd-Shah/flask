{
 "cells": [
  {
   "cell_type": "markdown",
   "metadata": {},
   "source": [
    "# Pedram ShahSafi\n",
    "\n",
    "# pd.shahsafi@gmail.com\n",
    "\n",
    "## JQuery\n",
    "\n",
    "<img src=\"pics/index.png\" />\n",
    "\n",
    "## What is jQuery?\n",
    "\n",
    "jQuery is a fast, small, and feature-rich JavaScript library. It makes things like HTML document traversal and manipulation, event handling, animation, and Ajax much simpler with an easy-to-use API that works across a multitude of browsers. With a combination of versatility and extensibility, jQuery has changed the way that millions of people write JavaScript.\n",
    "\n",
    "## How jQuery Works"
   ]
  },
  {
   "cell_type": "code",
   "execution_count": null,
   "metadata": {},
   "outputs": [],
   "source": [
    "<!doctype html>\n",
    "<html>\n",
    "<head>\n",
    "    <meta charset=\"utf-8\">\n",
    "    <title>Demo</title>\n",
    "</head>\n",
    "<body>\n",
    "    <script src=\"jquery.js\"></script>\n",
    "    <script>\n",
    " \n",
    "    // Your code goes here.\n",
    " \n",
    "    </script>\n",
    "</body>\n",
    "</html>"
   ]
  },
  {
   "cell_type": "markdown",
   "metadata": {},
   "source": [
    "## where is jquery.js \n",
    "\n",
    "https://code.jquery.com/jquery-3.3.1.min.js\n",
    "\n",
    "## starting template"
   ]
  },
  {
   "cell_type": "code",
   "execution_count": null,
   "metadata": {},
   "outputs": [],
   "source": [
    "<!doctype html>\n",
    "<html>\n",
    "\n",
    "<head>\n",
    "  <meta charset=\"utf-8\">\n",
    "  <meta name=\"viewport\" content=\"width=device-width, initial-scale=1\">\n",
    "  <title>Hello Bulma!</title>\n",
    "  <link rel=\"stylesheet\" href=\"https://cdnjs.cloudflare.com/ajax/libs/bulma/0.7.2/css/bulma.min.css\">\n",
    "  <script defer src=\"https://use.fontawesome.com/releases/v5.3.1/js/all.js\"></script>\n",
    "</head>\n",
    "\n",
    "<body>\n",
    "  <section class=\"section is-small\">\n",
    "    <div class=\"container\">\n",
    "      <h1 class=\"title\">\n",
    "        Hello World\n",
    "      </h1>\n",
    "      <p class=\"subtitle\">\n",
    "        <i class=\"fab fa-python\"></i>\n",
    "        powered by pd\n",
    "        <i class=\"fab fa-python\"></i>\n",
    "      </p>\n",
    "    </div>\n",
    "  </section>\n",
    "\n",
    "  <script src=\"jquery-3.3.1.min.js\"></script>\n",
    "  <script>\n",
    "    // Your code goes here.\n",
    "  </script>\n",
    "</body>\n",
    "\n",
    "</html>"
   ]
  },
  {
   "cell_type": "markdown",
   "metadata": {},
   "source": [
    "## Launching Code on Document Ready"
   ]
  },
  {
   "cell_type": "code",
   "execution_count": null,
   "metadata": {},
   "outputs": [],
   "source": [
    "  <script>\n",
    "    window.onload = function(){\n",
    "      alert(\"Hello World!!!\")\n",
    "    };\n",
    "  </script>"
   ]
  },
  {
   "cell_type": "markdown",
   "metadata": {},
   "source": [
    "<img src=\"pics/Screenshot from 2019-01-03 14-46-20.png\"/>"
   ]
  },
  {
   "cell_type": "markdown",
   "metadata": {},
   "source": [
    "Unfortunately, the code doesn't run until all images are finished downloading, including banner ads. To run code as soon as the document is ready to be manipulated, jQuery has a statement known as the ready event:"
   ]
  },
  {
   "cell_type": "code",
   "execution_count": null,
   "metadata": {},
   "outputs": [],
   "source": [
    "  <script>\n",
    "    $(document).ready(function(){\n",
    "      alert(\"Hello World Again!!!\")\n",
    "    });\n",
    "  </script>"
   ]
  },
  {
   "cell_type": "markdown",
   "metadata": {},
   "source": [
    "## Event\n",
    "These methods are used to register behaviors to take effect when the user interacts with the browser, and to further manipulate those registered behaviors.\n",
    "http://api.jquery.com/category/events/"
   ]
  },
  {
   "cell_type": "markdown",
   "metadata": {},
   "source": [
    "## Click"
   ]
  },
  {
   "cell_type": "code",
   "execution_count": null,
   "metadata": {},
   "outputs": [],
   "source": [
    "\n",
    "  <section class=\"section\">\n",
    "    <div class=\"container\">\n",
    "      <a class=\"button is-primary\"> click </a>\n",
    "    </div>\n",
    "  </section>\n",
    "  <script src=\"jquery-3.3.1.min.js\"></script>\n",
    "  <script>\n",
    "    $(document).ready(function() {\n",
    "      $(\"a\").click(function(event){\n",
    "        alert(\"clicked\");\n",
    "      });\n",
    "    });\n",
    "  </script>"
   ]
  },
  {
   "cell_type": "markdown",
   "metadata": {},
   "source": [
    "<img src=\"pics/Screenshot from 2019-01-03 15-30-47.png\"/>"
   ]
  },
  {
   "cell_type": "markdown",
   "metadata": {},
   "source": [
    "## this"
   ]
  },
  {
   "cell_type": "code",
   "execution_count": null,
   "metadata": {},
   "outputs": [],
   "source": [
    "  <script>\n",
    "    $(document).ready(function() {\n",
    "      $(\"a\").hover(function(event){\n",
    "        $(this).hide()\n",
    "      });\n",
    "    });\n",
    "  </script>"
   ]
  },
  {
   "cell_type": "markdown",
   "metadata": {},
   "source": [
    " ## Adding and Removing an HTML Class"
   ]
  },
  {
   "cell_type": "code",
   "execution_count": null,
   "metadata": {},
   "outputs": [],
   "source": [
    "  <script>\n",
    "    $(document).ready(function() {\n",
    "      $(\"a\").hover(function(event){\n",
    "        $(this).removeClass(\"is-danger\")\n",
    "        $(this).addClass(\"is-primary\")\n",
    "      });\n",
    "    });\n",
    "  </script>"
   ]
  },
  {
   "cell_type": "code",
   "execution_count": null,
   "metadata": {},
   "outputs": [],
   "source": [
    "  <script>\n",
    "    $(document).ready(function() {\n",
    "      $(\"a\").mouseenter(function(event){\n",
    "        $(this).removeClass(\"is-danger\")\n",
    "        $(this).addClass(\"is-primary\")\n",
    "      });\n",
    "      $(\"a\").mouseleave(function(event){\n",
    "        $(this).removeClass(\"is-primary\")\n",
    "        $(this).addClass(\"is-danger\")\n",
    "      });\n",
    "    });\n",
    "  </script>"
   ]
  },
  {
   "cell_type": "markdown",
   "metadata": {},
   "source": [
    "## Draggable"
   ]
  },
  {
   "cell_type": "code",
   "execution_count": null,
   "metadata": {},
   "outputs": [],
   "source": [
    "  <div id=\"draggable\" class=\"ui-widget-content button is-primary\">\n",
    "    <p>Drag me around</p>\n",
    "  </div>\n",
    "  <script src=\"https://code.jquery.com/jquery-1.12.4.js\"></script>\n",
    "  <script src=\"https://code.jquery.com/ui/1.12.1/jquery-ui.js\"></script>\n",
    "  <script>\n",
    "    $(function() {\n",
    "      $(\"#draggable\").draggable();\n",
    "    });\n",
    "  </script>"
   ]
  }
 ],
 "metadata": {
  "kernelspec": {
   "display_name": "Python 3",
   "language": "python",
   "name": "python3"
  },
  "language_info": {
   "codemirror_mode": {
    "name": "ipython",
    "version": 3
   },
   "file_extension": ".py",
   "mimetype": "text/x-python",
   "name": "python",
   "nbconvert_exporter": "python",
   "pygments_lexer": "ipython3",
   "version": "3.5.3"
  }
 },
 "nbformat": 4,
 "nbformat_minor": 2
}
