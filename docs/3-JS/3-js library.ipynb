{
 "cells": [
  {
   "cell_type": "markdown",
   "metadata": {},
   "source": [
    "# Pedram ShahSafi\n",
    "\n",
    "# pd.shahsafi@gmail.com\n",
    "\n",
    "## JavaScript libs\n",
    "Why are there so many JavaScript libs?"
   ]
  },
  {
   "cell_type": "markdown",
   "metadata": {},
   "source": [
    "<img src=\"pics/1*raWO3dhM4jMjf9VY-kZzNg.png\"/>"
   ]
  },
  {
   "cell_type": "markdown",
   "metadata": {},
   "source": [
    "\n",
    "\n",
    "1. JavaScript is quite a minimalistic language. You lack some methods you would like to have, like a notorious lpad. In Java, for example, you have a huge Apache Commons toolset, that solves a lot of different common (no pun intended) problems. In JavaScript, people solved the same problems as they arose, without having Apache license to bind them together. So, instead of one library solving a hundred problems, you may have a hundred libraries.\n",
    "\n",
    "2. JavaScript is an easy language to get into. Part of that is that you can run it in your browser, and immediately see results. Part of it is that it’s interpreted, so you don’t need to compile it. So, a lot of people are attracted to it. More people = more libraries.\n",
    "\n",
    "3. JavaScript is the only programming language supported by all modern browsers. Unlike serverside programming, where you have at least ten different languages to choose from, that will do the job, if you want to do something in browser, it must be written in JavaScript. Want to use another language instead, like Elm or Kotlin? Transpile it to JavaScript. Another library incoming!\n",
    "\n",
    "4. Unlike most other languages, JavaScript can be executed both on server side and client side. Some libraries solve client side problems. Some solve server side problems. But they are still all written in JavaScript."
   ]
  }
 ],
 "metadata": {
  "kernelspec": {
   "display_name": "Python 3",
   "language": "python",
   "name": "python3"
  },
  "language_info": {
   "codemirror_mode": {
    "name": "ipython",
    "version": 3
   },
   "file_extension": ".py",
   "mimetype": "text/x-python",
   "name": "python",
   "nbconvert_exporter": "python",
   "pygments_lexer": "ipython3",
   "version": "3.5.3"
  }
 },
 "nbformat": 4,
 "nbformat_minor": 2
}
