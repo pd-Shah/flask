{
 "cells": [
  {
   "cell_type": "markdown",
   "metadata": {},
   "source": [
    "# Pedram ShahSafi\n",
    "\n",
    "# pd.shahsafi@gmail.com\n",
    "\n",
    "## JavaScript Overview\n",
    "<img src=\"pics/1*hLSiwh3HW9Pqw0M3gLEMOg.png\"/>\n",
    "\n",
    "## Strings\n",
    "\n",
    "Strings are values made up of text and can contain letters, numbers, symbols, punctuation, and even emoji.\n"
   ]
  },
  {
   "cell_type": "code",
   "execution_count": null,
   "metadata": {},
   "outputs": [],
   "source": [
    "'This is a string. 👏';\n",
    "\"This is the 2nd string. 💁\";"
   ]
  },
  {
   "cell_type": "code",
   "execution_count": null,
   "metadata": {},
   "outputs": [],
   "source": [
    "  <script type=\"text/javascript\">\n",
    "    window.alert(\"Hello World 💁\")\n",
    "  </script>"
   ]
  },
  {
   "cell_type": "markdown",
   "metadata": {},
   "source": [
    "<img src=\"pics/Screenshot from 2019-01-03 13-08-07.png\" />"
   ]
  },
  {
   "cell_type": "markdown",
   "metadata": {},
   "source": [
    "## Variables\n",
    "Variables are named values and can store any type of JavaScript value.\n",
    "\n",
    "1. Strings \n",
    "2. Numbers \n",
    "3. Booleans \n",
    "4. Operators\n",
    "5. Variables \n",
    "6. Functions \n",
    "7. Conditionals \n",
    "8. Arrays \n",
    "9. Objects\n"
   ]
  },
  {
   "cell_type": "code",
   "execution_count": null,
   "metadata": {},
   "outputs": [],
   "source": [
    "  <script type=\"text/javascript\">\n",
    "    var x = 100;\n",
    "\n",
    "    window.alert(x + 102);\n",
    "  </script>"
   ]
  },
  {
   "cell_type": "markdown",
   "metadata": {},
   "source": [
    "<img src=\"pics/Screenshot from 2019-01-03 13-12-34.png\" />"
   ]
  },
  {
   "cell_type": "markdown",
   "metadata": {},
   "source": [
    "## Functions\n",
    "\n",
    "Functions are blocks of code that can be named and reused."
   ]
  },
  {
   "cell_type": "code",
   "execution_count": null,
   "metadata": {},
   "outputs": [],
   "source": [
    "  <script type=\"text/javascript\">\n",
    "    function addTwoNumbers(x, y) {\n",
    "      return x + y;\n",
    "    }\n",
    "\n",
    "    window.alert(addTwoNumbers(100, 50));\n",
    "  </script>\n"
   ]
  },
  {
   "cell_type": "markdown",
   "metadata": {},
   "source": [
    "<img src=\"pics/Screenshot from 2019-01-03 14-02-19.png\"/>"
   ]
  },
  {
   "cell_type": "markdown",
   "metadata": {},
   "source": [
    "## Conditionals\n",
    "\n",
    "Conditionals control behavior in JavaScript and determine whether or not pieces of code can run.\n",
    "if The most common type of conditional is the if statement, which only runs if the condition enclosed in parentheses () is truthy."
   ]
  },
  {
   "cell_type": "code",
   "execution_count": null,
   "metadata": {},
   "outputs": [],
   "source": [
    "  <script type=\"text/javascript\">\n",
    "    function addTwoNumbers(x, y) {\n",
    "      z = x + y;\n",
    "      if(z< 100){\n",
    "        message = \" lower than 100\";\n",
    "      } else if(z == 100){\n",
    "        message = \"equal to 100\";\n",
    "      } else{\n",
    "        message = \"bigger than 100\";\n",
    "      }\n",
    "      return message\n",
    "    }\n",
    "    window.alert(addTwoNumbers(100, 50));\n",
    "  </script>"
   ]
  },
  {
   "cell_type": "markdown",
   "metadata": {},
   "source": [
    "<img src=\"pics/Screenshot from 2019-01-03 14-06-36.png\"/>"
   ]
  },
  {
   "cell_type": "markdown",
   "metadata": {},
   "source": [
    "## Arrays\n",
    "\n",
    "Arrays are container-like values that can hold other values. The values inside an array are called elements."
   ]
  },
  {
   "cell_type": "code",
   "execution_count": null,
   "metadata": {},
   "outputs": [],
   "source": [
    "  <script type=\"text/javascript\">\n",
    "    function showList(list) {\n",
    "      for(i=0; i< list.length; i++){\n",
    "        window.alert(list[i])\n",
    "      }\n",
    "    }\n",
    "    var l = [100, \"paint\", [200, \"brush\"], false];\n",
    "    showList(l);\n",
    "  </script>"
   ]
  },
  {
   "cell_type": "markdown",
   "metadata": {},
   "source": [
    "<img src=\"pics/Screenshot from 2019-01-03 14-12-56.png\"/>"
   ]
  },
  {
   "cell_type": "markdown",
   "metadata": {},
   "source": [
    "## Objects\n",
    "\n",
    "Objects are values that can contain other values. They use keys to name values, which are a lot like variables."
   ]
  },
  {
   "cell_type": "code",
   "execution_count": null,
   "metadata": {},
   "outputs": [],
   "source": [
    "  <script type=\"text/javascript\">\n",
    "    var obj = {\n",
    "      name:\"pd\",\n",
    "      family: \"KingSafi\",\n",
    "    };\n",
    "    window.alert(obj.name);\n",
    "    obj.name = \"Pedram\";\n",
    "    window.alert(obj.name);\n",
    "  </script>"
   ]
  },
  {
   "cell_type": "markdown",
   "metadata": {},
   "source": [
    "<img src=\"pics/Screenshot from 2019-01-03 14-17-36.png\" />"
   ]
  },
  {
   "cell_type": "code",
   "execution_count": null,
   "metadata": {},
   "outputs": [],
   "source": []
  }
 ],
 "metadata": {
  "kernelspec": {
   "display_name": "Python 3",
   "language": "python",
   "name": "python3"
  },
  "language_info": {
   "codemirror_mode": {
    "name": "ipython",
    "version": 3
   },
   "file_extension": ".py",
   "mimetype": "text/x-python",
   "name": "python",
   "nbconvert_exporter": "python",
   "pygments_lexer": "ipython3",
   "version": "3.5.3"
  }
 },
 "nbformat": 4,
 "nbformat_minor": 2
}
