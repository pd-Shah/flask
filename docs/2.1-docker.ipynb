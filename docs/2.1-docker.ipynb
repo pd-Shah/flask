{
 "cells": [
  {
   "cell_type": "markdown",
   "metadata": {},
   "source": [
    "# Pedram ShahSafi\n",
    "\n",
    "# pd.shahsafi@gmail.com\n",
    "\n",
    "<img src=\"pics/1.jpg\" />\n",
    "\n",
    "\n",
    "## docker\n",
    "Docker is a container management service. The keywords of Docker are develop, ship and run anywhere. The whole idea of Docker is for developers to easily develop applications, ship them into containers which can then be deployed anywhere.\n",
    "\n",
    "### VM Machine\n",
    "Using VM Machine software, for example, Ubuntu can be installed inside a Windows. And they both would run at the same time. It is like building a PC, with its core components like CPU, RAM, Disks, Network Cards etc, within an operating system and assemble them to work as if it was a real PC. This way, the virtual PC becomes a \"guest\" inside an actual PC which with its operating system is called a host.\n",
    "\n",
    "### Container\n",
    "It's same as above but instead of using an entire operating system, it cut down the \"unnecessary\" components of the virtual OS to create a minimal version of it. This lead to the creation of LXC (Linux Containers).It's faster than VM Machines.\n",
    "\n",
    "### Docker: \n",
    "A docker container, unlike a virtual machine and container, does not require or include a separate operating system. Instead, it relies on the Linux kernel's functionality and uses resource isolation.\n",
    "Purpose of Docker: Its primary focus is to automate the deployment of applications inside software containers and the automation of operating system level virtualization on Linux. It's lightweight then Containers and boots-up in seconds. \n",
    "\n",
    "<img src=\"pics/docker.jpg\" />\n",
    "\n",
    "\n",
    "## Terms :\n",
    "\n",
    "### Docker Engine \n",
    "\"Docker engine\" is the part of Docker which creates and runs Docker containers.\n",
    "\n",
    "### Docker Hub\n",
    "SaaS service for sharing and managing application stacks. Docker Hub is a registry service on the cloud that allows you to download Docker images that are built by other communities. You can also upload your own Docker built images to Docker hub.\n",
    "\n",
    "### Docker Compose\n",
    "Docker Compose is a tool for defining and running multi-container Docker applications. It uses Yaml files to configure the application's services and performs the creation and start-up process of all the containers with a single command.\n",
    "\n",
    "Using Compose is basically a three-step process.\n",
    "\n",
    "1. Define your app's environment with a Dockerfile so it can be reproduced anywhere.\n",
    "\n",
    "2. Define the services that make up your app in docker-compose.yml so they can be run together in an isolated environment.\n",
    "\n",
    "3. Lastly, run docker-compose up and Compose will start and run your entire app.\n",
    "\n",
    "### Docker Image\n",
    "In Docker, everything is based on Images.\n",
    "\n",
    "### Docker file\n",
    "The Dockerfile is essentially the build instructions to build the image.\n",
    "\n",
    "### Docker-compose.yml\n",
    "Config. Application’s services.\n",
    "\n",
    "# Get Docker CE for Ubuntu\n",
    "\n",
    "Uninstall old versions"
   ]
  },
  {
   "cell_type": "code",
   "execution_count": null,
   "metadata": {},
   "outputs": [],
   "source": [
    "sudo apt-get remove docker docker-engine docker.io"
   ]
  },
  {
   "cell_type": "markdown",
   "metadata": {},
   "source": [
    "### 403 Forbidden\n",
    "Since Docker is a US company, we must comply with us export control regulations. In an effort to comply with these, we now block all IP addresses that are located in Cuba, <b>Iran</b>, North Korea, Sudan, and Syria. If you are not in one of these countries and are blocked, please reach out to \n",
    "\n",
    "## Install Docker CE"
   ]
  },
  {
   "cell_type": "markdown",
   "metadata": {},
   "source": [
    "#### Update the apt package index:"
   ]
  },
  {
   "cell_type": "code",
   "execution_count": null,
   "metadata": {},
   "outputs": [],
   "source": [
    "sudo apt-get update"
   ]
  },
  {
   "cell_type": "markdown",
   "metadata": {},
   "source": [
    "Install packages to allow apt to use a repository over HTTPS:\n",
    "\n"
   ]
  },
  {
   "cell_type": "code",
   "execution_count": null,
   "metadata": {},
   "outputs": [],
   "source": [
    "sudo apt-get install \\\n",
    "    apt-transport-https \\\n",
    "    ca-certificates \\\n",
    "    curl \\\n",
    "    software-properties-common"
   ]
  },
  {
   "cell_type": "markdown",
   "metadata": {},
   "source": [
    "Add Docker’s official GPG key:"
   ]
  },
  {
   "cell_type": "code",
   "execution_count": null,
   "metadata": {},
   "outputs": [],
   "source": [
    "curl -fsSL https://download.docker.com/linux/ubuntu/gpg | sudo apt-key add -"
   ]
  },
  {
   "cell_type": "markdown",
   "metadata": {},
   "source": [
    "set up the stable repository"
   ]
  },
  {
   "cell_type": "code",
   "execution_count": null,
   "metadata": {},
   "outputs": [],
   "source": [
    "sudo add-apt-repository \\\n",
    "   \"deb [arch=amd64] https://download.docker.com/linux/ubuntu \\\n",
    "   $(lsb_release -cs) \\\n",
    "   stable\""
   ]
  }
 ],
 "metadata": {
  "kernelspec": {
   "display_name": "Python 3",
   "language": "python",
   "name": "python3"
  },
  "language_info": {
   "codemirror_mode": {
    "name": "ipython",
    "version": 3
   },
   "file_extension": ".py",
   "mimetype": "text/x-python",
   "name": "python",
   "nbconvert_exporter": "python",
   "pygments_lexer": "ipython3",
   "version": "3.6.5"
  }
 },
 "nbformat": 4,
 "nbformat_minor": 2
}
