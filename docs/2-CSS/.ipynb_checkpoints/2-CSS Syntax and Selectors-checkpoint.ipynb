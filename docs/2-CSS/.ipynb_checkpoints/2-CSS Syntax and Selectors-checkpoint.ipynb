{
 "cells": [
  {
   "cell_type": "markdown",
   "metadata": {},
   "source": [
    "# Pedram ShahSafi\n",
    "\n",
    "# pd.shahsafi@gmail.com\n",
    "\n",
    "<img src=\"pics/1.png\" />\n",
    "\n",
    "## CSS Syntax\n",
    "A CSS rule-set consists of a selector and a declaration block:\n",
    "\n",
    "<img src=\"pics/selector.gif\" />"
   ]
  },
  {
   "cell_type": "code",
   "execution_count": null,
   "metadata": {},
   "outputs": [],
   "source": [
    "p {\n",
    "    color: red;\n",
    "    text-align: center;\n",
    "}"
   ]
  },
  {
   "cell_type": "markdown",
   "metadata": {},
   "source": [
    "## CSS Selectors\n",
    "CSS selectors are used to \"find\" (or select) HTML elements based on their element name, id, class, attribute, and more.\n",
    "\n",
    "## The element Selector\n",
    "The element selector selects elements based on the element name.\n",
    "\n"
   ]
  },
  {
   "cell_type": "raw",
   "metadata": {},
   "source": [
    "You can select all <p> elements on a page like this (in this case, all <p> elements will be center-aligned, with a red text color):"
   ]
  },
  {
   "cell_type": "code",
   "execution_count": null,
   "metadata": {},
   "outputs": [],
   "source": [
    "p {\n",
    "    text-align: center;\n",
    "    color: red;\n",
    "}"
   ]
  },
  {
   "cell_type": "markdown",
   "metadata": {},
   "source": [
    "## The id Selector\n",
    "The id selector uses the id attribute of an HTML element to select a specific element.\n",
    "\n",
    "The id of an element should be unique within a page, so the id selector is used to select one unique element!\n",
    "\n",
    "To select an element with a specific id, write a hash (#) character, followed by the id of the element.\n",
    "\n"
   ]
  },
  {
   "cell_type": "code",
   "execution_count": null,
   "metadata": {},
   "outputs": [],
   "source": [
    "#para1 {\n",
    "    text-align: center;\n",
    "    color: red;\n",
    "}"
   ]
  },
  {
   "cell_type": "markdown",
   "metadata": {},
   "source": [
    "## The class Selector\n",
    "The class selector selects elements with a specific class attribute.\n",
    "\n",
    "To select elements with a specific class, write a period (.) character, followed by the name of the class.\n",
    "\n",
    "In the example below, all HTML elements with class=\"center\" will be red and center-aligned:\n",
    "\n"
   ]
  },
  {
   "cell_type": "code",
   "execution_count": null,
   "metadata": {},
   "outputs": [],
   "source": [
    ".center {\n",
    "    text-align: center;\n",
    "    color: red;\n",
    "}"
   ]
  },
  {
   "cell_type": "markdown",
   "metadata": {},
   "source": [
    "You can also specify that only specific HTML elements should be affected by a class."
   ]
  },
  {
   "cell_type": "raw",
   "metadata": {},
   "source": [
    "In the example below, only <p> elements with class=\"center\" will be center-aligned:"
   ]
  },
  {
   "cell_type": "code",
   "execution_count": null,
   "metadata": {},
   "outputs": [],
   "source": [
    "p.center {\n",
    "    text-align: center;\n",
    "    color: red;\n",
    "}"
   ]
  },
  {
   "cell_type": "markdown",
   "metadata": {},
   "source": [
    "## Grouping Selectors\n"
   ]
  },
  {
   "cell_type": "code",
   "execution_count": null,
   "metadata": {},
   "outputs": [],
   "source": [
    "h1 {\n",
    "    text-align: center;\n",
    "    color: red;\n",
    "}\n",
    "\n",
    "h2 {\n",
    "    text-align: center;\n",
    "    color: red;\n",
    "}\n",
    "\n",
    "p {\n",
    "    text-align: center;\n",
    "    color: red;\n",
    "}"
   ]
  },
  {
   "cell_type": "code",
   "execution_count": null,
   "metadata": {},
   "outputs": [],
   "source": [
    "h1, h2, p {\n",
    "    text-align: center;\n",
    "    color: red;\n",
    "}"
   ]
  }
 ],
 "metadata": {
  "kernelspec": {
   "display_name": "Python 3",
   "language": "python",
   "name": "python3"
  },
  "language_info": {
   "codemirror_mode": {
    "name": "ipython",
    "version": 3
   },
   "file_extension": ".py",
   "mimetype": "text/x-python",
   "name": "python",
   "nbconvert_exporter": "python",
   "pygments_lexer": "ipython3",
   "version": "3.6.5"
  }
 },
 "nbformat": 4,
 "nbformat_minor": 2
}
