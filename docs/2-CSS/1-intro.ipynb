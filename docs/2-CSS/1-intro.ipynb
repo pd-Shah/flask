{
 "cells": [
  {
   "cell_type": "markdown",
   "metadata": {},
   "source": [
    "# Pedram ShahSafi\n",
    "\n",
    "# pd.shahsafi@gmail.com\n",
    "\n",
    "<img src=\"pics/1.png\" />\n",
    "\n",
    "## Styling HTML with CSS\n",
    "\n",
    "CSS stands for Cascading Style Sheets.\n",
    "\n",
    "CSS describes how HTML elements are to be displayed on screen, paper, or in other media.\n",
    "\n",
    "CSS saves a lot of work. It can control the layout of multiple web pages all at once.\n",
    "\n",
    "CSS can be added tHTML elements in 3 ways:"
   ]
  },
  {
   "cell_type": "raw",
   "metadata": {},
   "source": [
    "1. Inline - by using the style attribute in HTML elements\n",
    "2. Internal - by using a <style> element in the <head> section\n",
    "3. External - by using an external CSS file"
   ]
  },
  {
   "cell_type": "markdown",
   "metadata": {},
   "source": [
    "## Inline CSS\n",
    "\n",
    "An inline CSS is used to apply a unique style to a single HTML element.\n",
    "\n",
    "An inline CSS uses the style attribute of an HTML element."
   ]
  },
  {
   "cell_type": "code",
   "execution_count": null,
   "metadata": {},
   "outputs": [],
   "source": [
    "<h1 style=\"color:blue;\">This is a Blue Heading</h1>"
   ]
  },
  {
   "cell_type": "markdown",
   "metadata": {},
   "source": [
    "## Internal CSS\n",
    "An internal CSS is used to define a style for a single HTML page.\n",
    "\n",
    "\n"
   ]
  },
  {
   "cell_type": "raw",
   "metadata": {},
   "source": [
    "An internal CSS is defined in the <head> section of an HTML page, within a <style> element:"
   ]
  },
  {
   "cell_type": "code",
   "execution_count": null,
   "metadata": {},
   "outputs": [],
   "source": [
    "<!DOCTYPE html>\n",
    "<html>\n",
    "    <head>\n",
    "        <style>\n",
    "        body {background-color: powderblue;}\n",
    "        h1   {color: blue;}\n",
    "        p    {color: red;}\n",
    "        </style>\n",
    "    </head>\n",
    "    <body>\n",
    "        <h1>This is a heading</h1>\n",
    "        <p>This is a paragraph.</p>\n",
    "    </body>\n",
    "</html>"
   ]
  },
  {
   "cell_type": "markdown",
   "metadata": {},
   "source": [
    "## External CSS\n",
    "An external style sheet is used to define the style for many HTML pages.\n",
    "\n",
    "With an external style sheet, you can change the look of an entire web site, by changing one file!"
   ]
  },
  {
   "cell_type": "raw",
   "metadata": {},
   "source": [
    "To use an external style sheet, add a link to it in the <head> section of the HTML page:"
   ]
  },
  {
   "cell_type": "code",
   "execution_count": null,
   "metadata": {},
   "outputs": [],
   "source": [
    "<!DOCTYPE html>\n",
    "<html>\n",
    "    <head>\n",
    "        <link rel=\"stylesheet\" href=\"styles.css\">\n",
    "    </head>\n",
    "    <body>\n",
    "        <h1>This is a heading</h1>\n",
    "        <p>This is a paragraph.</p>\n",
    "    </body>\n",
    "</html>"
   ]
  },
  {
   "cell_type": "markdown",
   "metadata": {},
   "source": [
    "### styles.css"
   ]
  },
  {
   "cell_type": "code",
   "execution_count": null,
   "metadata": {},
   "outputs": [],
   "source": [
    "body {\n",
    "    background-color: powderblue;\n",
    "}\n",
    "h1 {\n",
    "    color: blue;\n",
    "}\n",
    "p {\n",
    "    color: red;\n",
    "}"
   ]
  }
 ],
 "metadata": {
  "kernelspec": {
   "display_name": "Python 3",
   "language": "python",
   "name": "python3"
  },
  "language_info": {
   "codemirror_mode": {
    "name": "ipython",
    "version": 3
   },
   "file_extension": ".py",
   "mimetype": "text/x-python",
   "name": "python",
   "nbconvert_exporter": "python",
   "pygments_lexer": "ipython3",
   "version": "3.7.3"
  }
 },
 "nbformat": 4,
 "nbformat_minor": 2
}
